{
 "cells": [
  {
   "cell_type": "code",
   "execution_count": 1,
   "id": "1cb82f83-1120-4ac4-9840-dc3216325d69",
   "metadata": {},
   "outputs": [
    {
     "data": {
      "text/html": [
       "<div class=\"bk-root\">\n",
       "        <a href=\"https://bokeh.org\" target=\"_blank\" class=\"bk-logo bk-logo-small bk-logo-notebook\"></a>\n",
       "        <span id=\"1002\">Loading BokehJS ...</span>\n",
       "    </div>\n"
      ]
     },
     "metadata": {},
     "output_type": "display_data"
    },
    {
     "data": {
      "application/javascript": [
       "(function(root) {\n",
       "  function now() {\n",
       "    return new Date();\n",
       "  }\n",
       "\n",
       "  const force = true;\n",
       "\n",
       "  if (typeof root._bokeh_onload_callbacks === \"undefined\" || force === true) {\n",
       "    root._bokeh_onload_callbacks = [];\n",
       "    root._bokeh_is_loading = undefined;\n",
       "  }\n",
       "\n",
       "const JS_MIME_TYPE = 'application/javascript';\n",
       "  const HTML_MIME_TYPE = 'text/html';\n",
       "  const EXEC_MIME_TYPE = 'application/vnd.bokehjs_exec.v0+json';\n",
       "  const CLASS_NAME = 'output_bokeh rendered_html';\n",
       "\n",
       "  /**\n",
       "   * Render data to the DOM node\n",
       "   */\n",
       "  function render(props, node) {\n",
       "    const script = document.createElement(\"script\");\n",
       "    node.appendChild(script);\n",
       "  }\n",
       "\n",
       "  /**\n",
       "   * Handle when an output is cleared or removed\n",
       "   */\n",
       "  function handleClearOutput(event, handle) {\n",
       "    const cell = handle.cell;\n",
       "\n",
       "    const id = cell.output_area._bokeh_element_id;\n",
       "    const server_id = cell.output_area._bokeh_server_id;\n",
       "    // Clean up Bokeh references\n",
       "    if (id != null && id in Bokeh.index) {\n",
       "      Bokeh.index[id].model.document.clear();\n",
       "      delete Bokeh.index[id];\n",
       "    }\n",
       "\n",
       "    if (server_id !== undefined) {\n",
       "      // Clean up Bokeh references\n",
       "      const cmd_clean = \"from bokeh.io.state import curstate; print(curstate().uuid_to_server['\" + server_id + \"'].get_sessions()[0].document.roots[0]._id)\";\n",
       "      cell.notebook.kernel.execute(cmd_clean, {\n",
       "        iopub: {\n",
       "          output: function(msg) {\n",
       "            const id = msg.content.text.trim();\n",
       "            if (id in Bokeh.index) {\n",
       "              Bokeh.index[id].model.document.clear();\n",
       "              delete Bokeh.index[id];\n",
       "            }\n",
       "          }\n",
       "        }\n",
       "      });\n",
       "      // Destroy server and session\n",
       "      const cmd_destroy = \"import bokeh.io.notebook as ion; ion.destroy_server('\" + server_id + \"')\";\n",
       "      cell.notebook.kernel.execute(cmd_destroy);\n",
       "    }\n",
       "  }\n",
       "\n",
       "  /**\n",
       "   * Handle when a new output is added\n",
       "   */\n",
       "  function handleAddOutput(event, handle) {\n",
       "    const output_area = handle.output_area;\n",
       "    const output = handle.output;\n",
       "\n",
       "    // limit handleAddOutput to display_data with EXEC_MIME_TYPE content only\n",
       "    if ((output.output_type != \"display_data\") || (!Object.prototype.hasOwnProperty.call(output.data, EXEC_MIME_TYPE))) {\n",
       "      return\n",
       "    }\n",
       "\n",
       "    const toinsert = output_area.element.find(\".\" + CLASS_NAME.split(' ')[0]);\n",
       "\n",
       "    if (output.metadata[EXEC_MIME_TYPE][\"id\"] !== undefined) {\n",
       "      toinsert[toinsert.length - 1].firstChild.textContent = output.data[JS_MIME_TYPE];\n",
       "      // store reference to embed id on output_area\n",
       "      output_area._bokeh_element_id = output.metadata[EXEC_MIME_TYPE][\"id\"];\n",
       "    }\n",
       "    if (output.metadata[EXEC_MIME_TYPE][\"server_id\"] !== undefined) {\n",
       "      const bk_div = document.createElement(\"div\");\n",
       "      bk_div.innerHTML = output.data[HTML_MIME_TYPE];\n",
       "      const script_attrs = bk_div.children[0].attributes;\n",
       "      for (let i = 0; i < script_attrs.length; i++) {\n",
       "        toinsert[toinsert.length - 1].firstChild.setAttribute(script_attrs[i].name, script_attrs[i].value);\n",
       "        toinsert[toinsert.length - 1].firstChild.textContent = bk_div.children[0].textContent\n",
       "      }\n",
       "      // store reference to server id on output_area\n",
       "      output_area._bokeh_server_id = output.metadata[EXEC_MIME_TYPE][\"server_id\"];\n",
       "    }\n",
       "  }\n",
       "\n",
       "  function register_renderer(events, OutputArea) {\n",
       "\n",
       "    function append_mime(data, metadata, element) {\n",
       "      // create a DOM node to render to\n",
       "      const toinsert = this.create_output_subarea(\n",
       "        metadata,\n",
       "        CLASS_NAME,\n",
       "        EXEC_MIME_TYPE\n",
       "      );\n",
       "      this.keyboard_manager.register_events(toinsert);\n",
       "      // Render to node\n",
       "      const props = {data: data, metadata: metadata[EXEC_MIME_TYPE]};\n",
       "      render(props, toinsert[toinsert.length - 1]);\n",
       "      element.append(toinsert);\n",
       "      return toinsert\n",
       "    }\n",
       "\n",
       "    /* Handle when an output is cleared or removed */\n",
       "    events.on('clear_output.CodeCell', handleClearOutput);\n",
       "    events.on('delete.Cell', handleClearOutput);\n",
       "\n",
       "    /* Handle when a new output is added */\n",
       "    events.on('output_added.OutputArea', handleAddOutput);\n",
       "\n",
       "    /**\n",
       "     * Register the mime type and append_mime function with output_area\n",
       "     */\n",
       "    OutputArea.prototype.register_mime_type(EXEC_MIME_TYPE, append_mime, {\n",
       "      /* Is output safe? */\n",
       "      safe: true,\n",
       "      /* Index of renderer in `output_area.display_order` */\n",
       "      index: 0\n",
       "    });\n",
       "  }\n",
       "\n",
       "  // register the mime type if in Jupyter Notebook environment and previously unregistered\n",
       "  if (root.Jupyter !== undefined) {\n",
       "    const events = require('base/js/events');\n",
       "    const OutputArea = require('notebook/js/outputarea').OutputArea;\n",
       "\n",
       "    if (OutputArea.prototype.mime_types().indexOf(EXEC_MIME_TYPE) == -1) {\n",
       "      register_renderer(events, OutputArea);\n",
       "    }\n",
       "  }\n",
       "  if (typeof (root._bokeh_timeout) === \"undefined\" || force === true) {\n",
       "    root._bokeh_timeout = Date.now() + 5000;\n",
       "    root._bokeh_failed_load = false;\n",
       "  }\n",
       "\n",
       "  const NB_LOAD_WARNING = {'data': {'text/html':\n",
       "     \"<div style='background-color: #fdd'>\\n\"+\n",
       "     \"<p>\\n\"+\n",
       "     \"BokehJS does not appear to have successfully loaded. If loading BokehJS from CDN, this \\n\"+\n",
       "     \"may be due to a slow or bad network connection. Possible fixes:\\n\"+\n",
       "     \"</p>\\n\"+\n",
       "     \"<ul>\\n\"+\n",
       "     \"<li>re-rerun `output_notebook()` to attempt to load from CDN again, or</li>\\n\"+\n",
       "     \"<li>use INLINE resources instead, as so:</li>\\n\"+\n",
       "     \"</ul>\\n\"+\n",
       "     \"<code>\\n\"+\n",
       "     \"from bokeh.resources import INLINE\\n\"+\n",
       "     \"output_notebook(resources=INLINE)\\n\"+\n",
       "     \"</code>\\n\"+\n",
       "     \"</div>\"}};\n",
       "\n",
       "  function display_loaded() {\n",
       "    const el = document.getElementById(\"1002\");\n",
       "    if (el != null) {\n",
       "      el.textContent = \"BokehJS is loading...\";\n",
       "    }\n",
       "    if (root.Bokeh !== undefined) {\n",
       "      if (el != null) {\n",
       "        el.textContent = \"BokehJS \" + root.Bokeh.version + \" successfully loaded.\";\n",
       "      }\n",
       "    } else if (Date.now() < root._bokeh_timeout) {\n",
       "      setTimeout(display_loaded, 100)\n",
       "    }\n",
       "  }\n",
       "\n",
       "  function run_callbacks() {\n",
       "    try {\n",
       "      root._bokeh_onload_callbacks.forEach(function(callback) {\n",
       "        if (callback != null)\n",
       "          callback();\n",
       "      });\n",
       "    } finally {\n",
       "      delete root._bokeh_onload_callbacks\n",
       "    }\n",
       "    console.debug(\"Bokeh: all callbacks have finished\");\n",
       "  }\n",
       "\n",
       "  function load_libs(css_urls, js_urls, callback) {\n",
       "    if (css_urls == null) css_urls = [];\n",
       "    if (js_urls == null) js_urls = [];\n",
       "\n",
       "    root._bokeh_onload_callbacks.push(callback);\n",
       "    if (root._bokeh_is_loading > 0) {\n",
       "      console.debug(\"Bokeh: BokehJS is being loaded, scheduling callback at\", now());\n",
       "      return null;\n",
       "    }\n",
       "    if (js_urls == null || js_urls.length === 0) {\n",
       "      run_callbacks();\n",
       "      return null;\n",
       "    }\n",
       "    console.debug(\"Bokeh: BokehJS not loaded, scheduling load and callback at\", now());\n",
       "    root._bokeh_is_loading = css_urls.length + js_urls.length;\n",
       "\n",
       "    function on_load() {\n",
       "      root._bokeh_is_loading--;\n",
       "      if (root._bokeh_is_loading === 0) {\n",
       "        console.debug(\"Bokeh: all BokehJS libraries/stylesheets loaded\");\n",
       "        run_callbacks()\n",
       "      }\n",
       "    }\n",
       "\n",
       "    function on_error(url) {\n",
       "      console.error(\"failed to load \" + url);\n",
       "    }\n",
       "\n",
       "    for (let i = 0; i < css_urls.length; i++) {\n",
       "      const url = css_urls[i];\n",
       "      const element = document.createElement(\"link\");\n",
       "      element.onload = on_load;\n",
       "      element.onerror = on_error.bind(null, url);\n",
       "      element.rel = \"stylesheet\";\n",
       "      element.type = \"text/css\";\n",
       "      element.href = url;\n",
       "      console.debug(\"Bokeh: injecting link tag for BokehJS stylesheet: \", url);\n",
       "      document.body.appendChild(element);\n",
       "    }\n",
       "\n",
       "    for (let i = 0; i < js_urls.length; i++) {\n",
       "      const url = js_urls[i];\n",
       "      const element = document.createElement('script');\n",
       "      element.onload = on_load;\n",
       "      element.onerror = on_error.bind(null, url);\n",
       "      element.async = false;\n",
       "      element.src = url;\n",
       "      console.debug(\"Bokeh: injecting script tag for BokehJS library: \", url);\n",
       "      document.head.appendChild(element);\n",
       "    }\n",
       "  };\n",
       "\n",
       "  function inject_raw_css(css) {\n",
       "    const element = document.createElement(\"style\");\n",
       "    element.appendChild(document.createTextNode(css));\n",
       "    document.body.appendChild(element);\n",
       "  }\n",
       "\n",
       "  const js_urls = [\"https://cdn.bokeh.org/bokeh/release/bokeh-2.4.3.min.js\", \"https://cdn.bokeh.org/bokeh/release/bokeh-gl-2.4.3.min.js\", \"https://cdn.bokeh.org/bokeh/release/bokeh-widgets-2.4.3.min.js\", \"https://cdn.bokeh.org/bokeh/release/bokeh-tables-2.4.3.min.js\", \"https://cdn.bokeh.org/bokeh/release/bokeh-mathjax-2.4.3.min.js\"];\n",
       "  const css_urls = [];\n",
       "\n",
       "  const inline_js = [    function(Bokeh) {\n",
       "      Bokeh.set_log_level(\"info\");\n",
       "    },\n",
       "function(Bokeh) {\n",
       "    }\n",
       "  ];\n",
       "\n",
       "  function run_inline_js() {\n",
       "    if (root.Bokeh !== undefined || force === true) {\n",
       "          for (let i = 0; i < inline_js.length; i++) {\n",
       "      inline_js[i].call(root, root.Bokeh);\n",
       "    }\n",
       "if (force === true) {\n",
       "        display_loaded();\n",
       "      }} else if (Date.now() < root._bokeh_timeout) {\n",
       "      setTimeout(run_inline_js, 100);\n",
       "    } else if (!root._bokeh_failed_load) {\n",
       "      console.log(\"Bokeh: BokehJS failed to load within specified timeout.\");\n",
       "      root._bokeh_failed_load = true;\n",
       "    } else if (force !== true) {\n",
       "      const cell = $(document.getElementById(\"1002\")).parents('.cell').data().cell;\n",
       "      cell.output_area.append_execute_result(NB_LOAD_WARNING)\n",
       "    }\n",
       "  }\n",
       "\n",
       "  if (root._bokeh_is_loading === 0) {\n",
       "    console.debug(\"Bokeh: BokehJS loaded, going straight to plotting\");\n",
       "    run_inline_js();\n",
       "  } else {\n",
       "    load_libs(css_urls, js_urls, function() {\n",
       "      console.debug(\"Bokeh: BokehJS plotting callback run at\", now());\n",
       "      run_inline_js();\n",
       "    });\n",
       "  }\n",
       "}(window));"
      ],
      "application/vnd.bokehjs_load.v0+json": "(function(root) {\n  function now() {\n    return new Date();\n  }\n\n  const force = true;\n\n  if (typeof root._bokeh_onload_callbacks === \"undefined\" || force === true) {\n    root._bokeh_onload_callbacks = [];\n    root._bokeh_is_loading = undefined;\n  }\n\n\n  if (typeof (root._bokeh_timeout) === \"undefined\" || force === true) {\n    root._bokeh_timeout = Date.now() + 5000;\n    root._bokeh_failed_load = false;\n  }\n\n  const NB_LOAD_WARNING = {'data': {'text/html':\n     \"<div style='background-color: #fdd'>\\n\"+\n     \"<p>\\n\"+\n     \"BokehJS does not appear to have successfully loaded. If loading BokehJS from CDN, this \\n\"+\n     \"may be due to a slow or bad network connection. Possible fixes:\\n\"+\n     \"</p>\\n\"+\n     \"<ul>\\n\"+\n     \"<li>re-rerun `output_notebook()` to attempt to load from CDN again, or</li>\\n\"+\n     \"<li>use INLINE resources instead, as so:</li>\\n\"+\n     \"</ul>\\n\"+\n     \"<code>\\n\"+\n     \"from bokeh.resources import INLINE\\n\"+\n     \"output_notebook(resources=INLINE)\\n\"+\n     \"</code>\\n\"+\n     \"</div>\"}};\n\n  function display_loaded() {\n    const el = document.getElementById(\"1002\");\n    if (el != null) {\n      el.textContent = \"BokehJS is loading...\";\n    }\n    if (root.Bokeh !== undefined) {\n      if (el != null) {\n        el.textContent = \"BokehJS \" + root.Bokeh.version + \" successfully loaded.\";\n      }\n    } else if (Date.now() < root._bokeh_timeout) {\n      setTimeout(display_loaded, 100)\n    }\n  }\n\n  function run_callbacks() {\n    try {\n      root._bokeh_onload_callbacks.forEach(function(callback) {\n        if (callback != null)\n          callback();\n      });\n    } finally {\n      delete root._bokeh_onload_callbacks\n    }\n    console.debug(\"Bokeh: all callbacks have finished\");\n  }\n\n  function load_libs(css_urls, js_urls, callback) {\n    if (css_urls == null) css_urls = [];\n    if (js_urls == null) js_urls = [];\n\n    root._bokeh_onload_callbacks.push(callback);\n    if (root._bokeh_is_loading > 0) {\n      console.debug(\"Bokeh: BokehJS is being loaded, scheduling callback at\", now());\n      return null;\n    }\n    if (js_urls == null || js_urls.length === 0) {\n      run_callbacks();\n      return null;\n    }\n    console.debug(\"Bokeh: BokehJS not loaded, scheduling load and callback at\", now());\n    root._bokeh_is_loading = css_urls.length + js_urls.length;\n\n    function on_load() {\n      root._bokeh_is_loading--;\n      if (root._bokeh_is_loading === 0) {\n        console.debug(\"Bokeh: all BokehJS libraries/stylesheets loaded\");\n        run_callbacks()\n      }\n    }\n\n    function on_error(url) {\n      console.error(\"failed to load \" + url);\n    }\n\n    for (let i = 0; i < css_urls.length; i++) {\n      const url = css_urls[i];\n      const element = document.createElement(\"link\");\n      element.onload = on_load;\n      element.onerror = on_error.bind(null, url);\n      element.rel = \"stylesheet\";\n      element.type = \"text/css\";\n      element.href = url;\n      console.debug(\"Bokeh: injecting link tag for BokehJS stylesheet: \", url);\n      document.body.appendChild(element);\n    }\n\n    for (let i = 0; i < js_urls.length; i++) {\n      const url = js_urls[i];\n      const element = document.createElement('script');\n      element.onload = on_load;\n      element.onerror = on_error.bind(null, url);\n      element.async = false;\n      element.src = url;\n      console.debug(\"Bokeh: injecting script tag for BokehJS library: \", url);\n      document.head.appendChild(element);\n    }\n  };\n\n  function inject_raw_css(css) {\n    const element = document.createElement(\"style\");\n    element.appendChild(document.createTextNode(css));\n    document.body.appendChild(element);\n  }\n\n  const js_urls = [\"https://cdn.bokeh.org/bokeh/release/bokeh-2.4.3.min.js\", \"https://cdn.bokeh.org/bokeh/release/bokeh-gl-2.4.3.min.js\", \"https://cdn.bokeh.org/bokeh/release/bokeh-widgets-2.4.3.min.js\", \"https://cdn.bokeh.org/bokeh/release/bokeh-tables-2.4.3.min.js\", \"https://cdn.bokeh.org/bokeh/release/bokeh-mathjax-2.4.3.min.js\"];\n  const css_urls = [];\n\n  const inline_js = [    function(Bokeh) {\n      Bokeh.set_log_level(\"info\");\n    },\nfunction(Bokeh) {\n    }\n  ];\n\n  function run_inline_js() {\n    if (root.Bokeh !== undefined || force === true) {\n          for (let i = 0; i < inline_js.length; i++) {\n      inline_js[i].call(root, root.Bokeh);\n    }\nif (force === true) {\n        display_loaded();\n      }} else if (Date.now() < root._bokeh_timeout) {\n      setTimeout(run_inline_js, 100);\n    } else if (!root._bokeh_failed_load) {\n      console.log(\"Bokeh: BokehJS failed to load within specified timeout.\");\n      root._bokeh_failed_load = true;\n    } else if (force !== true) {\n      const cell = $(document.getElementById(\"1002\")).parents('.cell').data().cell;\n      cell.output_area.append_execute_result(NB_LOAD_WARNING)\n    }\n  }\n\n  if (root._bokeh_is_loading === 0) {\n    console.debug(\"Bokeh: BokehJS loaded, going straight to plotting\");\n    run_inline_js();\n  } else {\n    load_libs(css_urls, js_urls, function() {\n      console.debug(\"Bokeh: BokehJS plotting callback run at\", now());\n      run_inline_js();\n    });\n  }\n}(window));"
     },
     "metadata": {},
     "output_type": "display_data"
    }
   ],
   "source": [
    "import os\n",
    "import bokeh\n",
    "from bokeh.plotting import show\n",
    "import matplotlib.pyplot as plt\n",
    "from bokeh.layouts import gridplot\n",
    "import warnings\n",
    "\n",
    "from flowio.create_fcs import create_fcs\n",
    "from scipy.stats import zscore\n",
    "import flowkit as fk\n",
    "import pandas as pd\n",
    "import scanpy as sc\n",
    "\n",
    "bokeh.io.output_notebook()\n",
    "%matplotlib inline\n",
    "\n",
    "_ = plt.ioff()"
   ]
  },
  {
   "cell_type": "code",
   "execution_count": 2,
   "id": "a397b5de-7760-427e-92fc-3c3eb3165522",
   "metadata": {},
   "outputs": [],
   "source": [
    "# create result folder\n",
    "res_dir = '../results/facs_data/'\n",
    "if not os.path.exists(res_dir):\n",
    "    os.makedirs(res_dir)\n",
    "if not os.path.exists(res_dir + 'plates'):\n",
    "    os.makedirs(res_dir + 'plates')\n",
    "if not os.path.exists(res_dir + 'xform'):\n",
    "    os.makedirs(res_dir + 'xform')"
   ]
  },
  {
   "cell_type": "code",
   "execution_count": 3,
   "id": "cbab5c41-3ba5-4ba1-9432-b2c25a41d483",
   "metadata": {},
   "outputs": [],
   "source": [
    "# function to get the sort locations on a 384-well plate from the .fcs file\n",
    "def get_sort_locations(sample):\n",
    "    rows = ['A', 'B', 'C', 'D', 'E', 'F', 'G', 'H', 'I', 'J', 'K', 'L', 'M', 'N', 'O', 'P']\n",
    "    cols = ['1', '2', '3', '4', '5', '6', '7', '8', '9', '10', '11', '12',\n",
    "            '13', '14', '15', '16', '17', '18', '19', '20', '21', '22', '23', '24']\n",
    "    loc_storages = sorted([x for x in sample.get_metadata().keys() if 'index sorting locations' in x], key=lambda x: int(x.split('_')[-1]))\n",
    "    inx_locs = []\n",
    "    for l in loc_storages:\n",
    "        inx_locs.extend(sample.get_metadata()[l].split(';')[:-1])\n",
    "    inx_locs = [tuple(map(int, x.split(','))) for x in inx_locs]\n",
    "    wells = [rows[x[0]] + cols[x[1]] for x in inx_locs]\n",
    "    \n",
    "    return wells"
   ]
  },
  {
   "cell_type": "code",
   "execution_count": 4,
   "id": "c1c28316-7c55-46d8-8f5b-44f1ea80d4ca",
   "metadata": {},
   "outputs": [],
   "source": [
    "# the script works for multiple plates, here we use only one\n",
    "# sometimes multiple .fcs files are generated for one plate; that was not the case here\n",
    "# for multiple .fcs files for one plate, the files need to be ordered by the order they were sorted/created\n",
    "plates = {'index_sort_500ms': '500ms'}"
   ]
  },
  {
   "cell_type": "code",
   "execution_count": 5,
   "id": "9191e7c5-81e5-44f0-bb19-5e6684933178",
   "metadata": {},
   "outputs": [],
   "source": [
    "# merge fcs for each plate and extract well info\n",
    "well_dict = {}\n",
    "for p in set(plates.values()): # for all plates\n",
    "    fcs = [x[0] for x in plates.items()]\n",
    "    samples = [fk.Sample(f'../data/{f}.fcs') for f in fcs] # load the .fcs file as flowkit sample\n",
    "    wells = [get_sort_locations(s) for s in samples] # lists of lists of the sort locations in the right order\n",
    "    wells = [l for subl in wells for l in subl] # flatten list\n",
    "    # are there duplicated wells? I.e. wells with multiple cells sorted\n",
    "    dupl = set([x for x in wells if wells.count(x) > 1])\n",
    "    if dupl:\n",
    "        warnings.warn(f'multiple sorts in {p} well {dupl}')\n",
    "    well_dict[p] = wells # store sort locations for each plate\n",
    "    # compensate\n",
    "    comp_mats = [fk.Matrix(f'spill_{s.original_filename}', spill_data_or_file=s.metadata['spill'], detectors=s.metadata['spill'].split(',')[1:3]) for s in samples] # create compensation matrices from the 'spill' field\n",
    "    [s.apply_compensation(comp_mats[i]) for i, s in enumerate(samples)] # apply the compensation\n",
    "    # merge\n",
    "    df = pd.concat([s.as_dataframe(source='comp') for s in samples])\n",
    "    # save\n",
    "    fh = open(res_dir + f'plates/{p}.fcs', 'wb')\n",
    "    create_fcs(fh, df.values.flatten().tolist(), channel_names=df.columns.get_level_values(0),\n",
    "               opt_channel_names=['', '', '', '', '', '', '', 'CD38', 'CD34']) # add the surface markers as optional names\n",
    "    fh.close()"
   ]
  },
  {
   "cell_type": "code",
   "execution_count": 6,
   "id": "23d22df1-95cd-4412-9a23-66ed93e764a4",
   "metadata": {},
   "outputs": [
    {
     "data": {
      "text/plain": [
       "Index(['Time', 'FSC-A', 'FSC-W', 'FSC-H', 'SSC-A', 'SSC-W', 'SSC-H', 'PE-A',\n",
       "       'APC-Cy7-A'],\n",
       "      dtype='object', name='pnn')"
      ]
     },
     "execution_count": 6,
     "metadata": {},
     "output_type": "execute_result"
    }
   ],
   "source": [
    "df.columns.get_level_values(0)"
   ]
  },
  {
   "cell_type": "code",
   "execution_count": 7,
   "id": "ec74733e-af18-4272-9dd7-18700a96e6c0",
   "metadata": {},
   "outputs": [],
   "source": [
    "# transform each fcs using the FlowJo biex transform with the standard parameters\n",
    "session = fk.Session(fcs_samples=res_dir + '/plates/', subsample=False)\n",
    "transform_dict = {'SSC-A': fk.transforms.WSPBiexTransform('biex', max_value=262144, positive=4.42, width=-100, negative=0),\n",
    "                  'FSC-A': fk.transforms.WSPBiexTransform('biex', max_value=262144, positive=4.42, width=-100, negative=0),\n",
    "                  'FSC-W': fk.transforms.WSPBiexTransform('biex', max_value=262144, positive=4.42, width=-100, negative=0),\n",
    "                  'FSC-H': fk.transforms.WSPBiexTransform('biex', max_value=262144, positive=4.42, width=-100, negative=0),\n",
    "                  'SSC-A': fk.transforms.WSPBiexTransform('biex', max_value=262144, positive=4.42, width=-100, negative=0),\n",
    "                  'SSC-W': fk.transforms.WSPBiexTransform('biex', max_value=262144, positive=4.42, width=-100, negative=0),\n",
    "                  'SSC-H': fk.transforms.WSPBiexTransform('biex', max_value=262144, positive=4.42, width=-100, negative=0), \n",
    "                  'PE-A': fk.transforms.WSPBiexTransform('biex', max_value=262144, positive=4.42, width=-100, negative=0),\n",
    "                  'APC-Cy7-A': fk.transforms.WSPBiexTransform('biex', max_value=262144, positive=4.42, width=-100, negative=0),\n",
    "                 }\n",
    "\n",
    "for s in session.get_group_samples('default'):\n",
    "    s.apply_transform(transform_dict)\n",
    "    df = s.as_dataframe(source='xform').apply(zscore) # apply z-score on the transformed data\n",
    "    # save\n",
    "    fh = open(res_dir + f'xform/{s.original_filename}', 'wb')\n",
    "    create_fcs(fh, df.values.flatten().tolist(), channel_names=df.columns.get_level_values(0),\n",
    "               opt_channel_names=df.columns.get_level_values(1))\n",
    "    fh.close()"
   ]
  },
  {
   "cell_type": "code",
   "execution_count": 8,
   "id": "9cc41ab2-0f7d-46e9-a6b9-73af914bf6eb",
   "metadata": {},
   "outputs": [
    {
     "data": {
      "text/plain": [
       "['default']"
      ]
     },
     "execution_count": 8,
     "metadata": {},
     "output_type": "execute_result"
    }
   ],
   "source": [
    "# load session of the biex transformed and z-scored \n",
    "session = fk.Session(fcs_samples=res_dir + 'xform/')\n",
    "session.get_sample_groups()"
   ]
  },
  {
   "cell_type": "code",
   "execution_count": 9,
   "id": "032b3a7e-7111-4ded-9658-706a2c5943f9",
   "metadata": {},
   "outputs": [
    {
     "data": {
      "text/plain": [
       "[Sample(v3.1, 500ms.fcs, 9 channels, 336 events)]"
      ]
     },
     "execution_count": 9,
     "metadata": {},
     "output_type": "execute_result"
    }
   ],
   "source": [
    "session.get_group_samples('default')"
   ]
  },
  {
   "cell_type": "code",
   "execution_count": 10,
   "id": "1cbd6e83-e081-4d0e-a88e-90c648e2c16e",
   "metadata": {
    "tags": []
   },
   "outputs": [
    {
     "data": {
      "text/html": [
       "\n",
       "  <div class=\"bk-root\" id=\"268a7dab-f612-4ddf-adea-6da7cb41c042\" data-root-id=\"1065\"></div>\n"
      ]
     },
     "metadata": {},
     "output_type": "display_data"
    },
    {
     "data": {
      "application/javascript": [
       "(function(root) {\n",
       "  function embed_document(root) {\n",
       "  const docs_json = {\"020bcdb2-6bda-409f-a079-cd824a6a92a7\":{\"defs\":[],\"roots\":{\"references\":[{\"attributes\":{\"children\":[{\"id\":\"1064\"},{\"id\":\"1062\"}]},\"id\":\"1065\",\"type\":\"Column\"},{\"attributes\":{\"below\":[{\"id\":\"1012\"}],\"center\":[{\"id\":\"1015\"},{\"id\":\"1019\"}],\"height\":200,\"left\":[{\"id\":\"1016\"}],\"renderers\":[{\"id\":\"1047\"}],\"title\":{\"id\":\"1049\"},\"toolbar\":{\"id\":\"1031\"},\"toolbar_location\":null,\"width\":200,\"x_range\":{\"id\":\"1004\"},\"x_scale\":{\"id\":\"1008\"},\"y_range\":{\"id\":\"1006\"},\"y_scale\":{\"id\":\"1010\"}},\"id\":\"1003\",\"subtype\":\"Figure\",\"type\":\"Plot\"},{\"attributes\":{\"align\":\"center\",\"coordinates\":null,\"group\":null,\"text\":\"500ms.fcs\"},\"id\":\"1049\",\"type\":\"Title\"},{\"attributes\":{},\"id\":\"1058\",\"type\":\"UnionRenderers\"},{\"attributes\":{},\"id\":\"1059\",\"type\":\"Selection\"},{\"attributes\":{\"toolbar\":{\"id\":\"1063\"},\"toolbar_location\":\"above\"},\"id\":\"1064\",\"type\":\"ToolbarBox\"},{\"attributes\":{},\"id\":\"1010\",\"type\":\"LinearScale\"},{\"attributes\":{},\"id\":\"1054\",\"type\":\"AllLabels\"},{\"attributes\":{\"axis_label\":\"Time\",\"coordinates\":null,\"formatter\":{\"id\":\"1056\"},\"group\":null,\"major_label_policy\":{\"id\":\"1057\"},\"ticker\":{\"id\":\"1013\"}},\"id\":\"1012\",\"type\":\"LinearAxis\"},{\"attributes\":{},\"id\":\"1026\",\"type\":\"UndoTool\"},{\"attributes\":{\"axis\":{\"id\":\"1016\"},\"coordinates\":null,\"dimension\":1,\"group\":null,\"ticker\":null},\"id\":\"1019\",\"type\":\"Grid\"},{\"attributes\":{},\"id\":\"1029\",\"type\":\"SaveTool\"},{\"attributes\":{\"overlay\":{\"id\":\"1030\"}},\"id\":\"1025\",\"type\":\"BoxZoomTool\"},{\"attributes\":{\"callback\":null},\"id\":\"1021\",\"type\":\"HoverTool\"},{\"attributes\":{\"bottom\":{\"value\":0},\"fill_alpha\":{\"value\":0.5},\"fill_color\":{\"value\":\"#1f77b4\"},\"hatch_alpha\":{\"value\":0.5},\"left\":{\"field\":\"left\"},\"line_alpha\":{\"value\":0.5},\"line_color\":{\"value\":\"#1f77b4\"},\"right\":{\"field\":\"right\"},\"top\":{\"field\":\"top\"}},\"id\":\"1044\",\"type\":\"Quad\"},{\"attributes\":{},\"id\":\"1057\",\"type\":\"AllLabels\"},{\"attributes\":{\"tools\":[{\"id\":\"1020\"},{\"id\":\"1021\"},{\"id\":\"1022\"},{\"id\":\"1023\"},{\"id\":\"1024\"},{\"id\":\"1025\"},{\"id\":\"1026\"},{\"id\":\"1027\"},{\"id\":\"1028\"},{\"id\":\"1029\"}]},\"id\":\"1031\",\"type\":\"Toolbar\"},{\"attributes\":{\"start\":0},\"id\":\"1006\",\"type\":\"DataRange1d\"},{\"attributes\":{},\"id\":\"1020\",\"type\":\"CrosshairTool\"},{\"attributes\":{\"axis\":{\"id\":\"1012\"},\"coordinates\":null,\"group\":null,\"ticker\":null},\"id\":\"1015\",\"type\":\"Grid\"},{\"attributes\":{},\"id\":\"1056\",\"type\":\"BasicTickFormatter\"},{\"attributes\":{\"toolbars\":[{\"id\":\"1031\"}],\"tools\":[{\"id\":\"1020\"},{\"id\":\"1021\"},{\"id\":\"1022\"},{\"id\":\"1023\"},{\"id\":\"1024\"},{\"id\":\"1025\"},{\"id\":\"1026\"},{\"id\":\"1027\"},{\"id\":\"1028\"},{\"id\":\"1029\"}]},\"id\":\"1063\",\"type\":\"ProxyToolbar\"},{\"attributes\":{},\"id\":\"1022\",\"type\":\"PanTool\"},{\"attributes\":{\"axis_label\":\"Event Count\",\"coordinates\":null,\"formatter\":{\"id\":\"1053\"},\"group\":null,\"major_label_policy\":{\"id\":\"1054\"},\"ticker\":{\"id\":\"1017\"}},\"id\":\"1016\",\"type\":\"LinearAxis\"},{\"attributes\":{\"bottom\":{\"value\":0},\"fill_alpha\":{\"value\":0.2},\"fill_color\":{\"value\":\"#1f77b4\"},\"hatch_alpha\":{\"value\":0.2},\"left\":{\"field\":\"left\"},\"line_alpha\":{\"value\":0.2},\"line_color\":{\"value\":\"#1f77b4\"},\"right\":{\"field\":\"right\"},\"top\":{\"field\":\"top\"}},\"id\":\"1046\",\"type\":\"Quad\"},{\"attributes\":{},\"id\":\"1053\",\"type\":\"BasicTickFormatter\"},{\"attributes\":{\"source\":{\"id\":\"1043\"}},\"id\":\"1048\",\"type\":\"CDSView\"},{\"attributes\":{},\"id\":\"1004\",\"type\":\"DataRange1d\"},{\"attributes\":{},\"id\":\"1024\",\"type\":\"ZoomOutTool\"},{\"attributes\":{\"bottom_units\":\"screen\",\"coordinates\":null,\"fill_alpha\":0.5,\"fill_color\":\"lightgrey\",\"group\":null,\"left_units\":\"screen\",\"level\":\"overlay\",\"line_alpha\":1.0,\"line_color\":\"black\",\"line_dash\":[4,4],\"line_width\":2,\"right_units\":\"screen\",\"syncable\":false,\"top_units\":\"screen\"},\"id\":\"1030\",\"type\":\"BoxAnnotation\"},{\"attributes\":{},\"id\":\"1013\",\"type\":\"BasicTicker\"},{\"attributes\":{},\"id\":\"1023\",\"type\":\"ZoomInTool\"},{\"attributes\":{\"bottom\":{\"value\":0},\"fill_alpha\":{\"value\":0.1},\"fill_color\":{\"value\":\"#1f77b4\"},\"hatch_alpha\":{\"value\":0.1},\"left\":{\"field\":\"left\"},\"line_alpha\":{\"value\":0.1},\"line_color\":{\"value\":\"#1f77b4\"},\"right\":{\"field\":\"right\"},\"top\":{\"field\":\"top\"}},\"id\":\"1045\",\"type\":\"Quad\"},{\"attributes\":{},\"id\":\"1017\",\"type\":\"BasicTicker\"},{\"attributes\":{\"data\":{\"left\":{\"__ndarray__\":\"AAAAALp8+79RXkNZhJn4v6K8hrJOtvW/8hrKCxnT8r+H8hrKxt/vvymvoXxbGeq/ymsoL/BS5L/YUF7DCRndvxzKaygzjNG/gA3lNXL9t79wDeU16DW2PxjKa6hQGtE/2FBeQyen3D/Iayjv/hnkPyivoTxq4Ok/hPIaitWm7z/yGsproLbyP6K8hhLWmfU/UF5DuQt9+D8=\",\"dtype\":\"float64\",\"order\":\"little\",\"shape\":[19]},\"right\":{\"__ndarray__\":\"UV5DWYSZ+L+ivIayTrb1v/IaygsZ0/K/h/Iaysbf778pr6F8Wxnqv8prKC/wUuS/2FBewwkZ3b8cymsoM4zRv4AN5TVy/be/cA3lNeg1tj8YymuoUBrRP9hQXkMnp9w/yGso7/4Z5D8or6E8auDpP4TyGorVpu8/8hrKa6C28j+ivIYS1pn1P1BeQ7kLffg/AAAAYEFg+z8=\",\"dtype\":\"float64\",\"order\":\"little\",\"shape\":[19]},\"top\":[19,17,19,17,18,17,17,17,17,17,18,17,18,18,18,18,18,17,19]},\"selected\":{\"id\":\"1059\"},\"selection_policy\":{\"id\":\"1058\"}},\"id\":\"1043\",\"type\":\"ColumnDataSource\"},{\"attributes\":{},\"id\":\"1008\",\"type\":\"LinearScale\"},{\"attributes\":{\"children\":[[{\"id\":\"1003\"},0,0]]},\"id\":\"1062\",\"type\":\"GridBox\"},{\"attributes\":{},\"id\":\"1028\",\"type\":\"ResetTool\"},{\"attributes\":{\"coordinates\":null,\"data_source\":{\"id\":\"1043\"},\"glyph\":{\"id\":\"1044\"},\"group\":null,\"hover_glyph\":null,\"muted_glyph\":{\"id\":\"1046\"},\"nonselection_glyph\":{\"id\":\"1045\"},\"view\":{\"id\":\"1048\"}},\"id\":\"1047\",\"type\":\"GlyphRenderer\"},{\"attributes\":{},\"id\":\"1027\",\"type\":\"RedoTool\"}],\"root_ids\":[\"1065\"]},\"title\":\"Bokeh Application\",\"version\":\"2.4.3\"}};\n",
       "  const render_items = [{\"docid\":\"020bcdb2-6bda-409f-a079-cd824a6a92a7\",\"root_ids\":[\"1065\"],\"roots\":{\"1065\":\"268a7dab-f612-4ddf-adea-6da7cb41c042\"}}];\n",
       "  root.Bokeh.embed.embed_items_notebook(docs_json, render_items);\n",
       "  }\n",
       "  if (root.Bokeh !== undefined) {\n",
       "    embed_document(root);\n",
       "  } else {\n",
       "    let attempts = 0;\n",
       "    const timer = setInterval(function(root) {\n",
       "      if (root.Bokeh !== undefined) {\n",
       "        clearInterval(timer);\n",
       "        embed_document(root);\n",
       "      } else {\n",
       "        attempts++;\n",
       "        if (attempts > 100) {\n",
       "          clearInterval(timer);\n",
       "          console.log(\"Bokeh: ERROR: Unable to run BokehJS code because BokehJS library is missing\");\n",
       "        }\n",
       "      }\n",
       "    }, 10, root)\n",
       "  }\n",
       "})(window);"
      ],
      "application/vnd.bokehjs_exec.v0+json": ""
     },
     "metadata": {
      "application/vnd.bokehjs_exec.v0+json": {
       "id": "1065"
      }
     },
     "output_type": "display_data"
    },
    {
     "data": {
      "text/html": [
       "\n",
       "  <div class=\"bk-root\" id=\"11649534-c725-49bd-b7da-0934198dce85\" data-root-id=\"1188\"></div>\n"
      ]
     },
     "metadata": {},
     "output_type": "display_data"
    },
    {
     "data": {
      "application/javascript": [
       "(function(root) {\n",
       "  function embed_document(root) {\n",
       "  const docs_json = {\"f0f764e7-bef8-4b22-b8a5-82a2e7a38aaf\":{\"defs\":[],\"roots\":{\"references\":[{\"attributes\":{\"children\":[{\"id\":\"1187\"},{\"id\":\"1185\"}]},\"id\":\"1188\",\"type\":\"Column\"},{\"attributes\":{},\"id\":\"1151\",\"type\":\"ResetTool\"},{\"attributes\":{\"start\":0},\"id\":\"1129\",\"type\":\"DataRange1d\"},{\"attributes\":{\"axis\":{\"id\":\"1139\"},\"coordinates\":null,\"dimension\":1,\"group\":null,\"ticker\":null},\"id\":\"1142\",\"type\":\"Grid\"},{\"attributes\":{\"axis_label\":\"FSC-A\",\"coordinates\":null,\"formatter\":{\"id\":\"1179\"},\"group\":null,\"major_label_policy\":{\"id\":\"1180\"},\"ticker\":{\"id\":\"1136\"}},\"id\":\"1135\",\"type\":\"LinearAxis\"},{\"attributes\":{\"bottom\":{\"value\":0},\"fill_alpha\":{\"value\":0.1},\"fill_color\":{\"value\":\"#1f77b4\"},\"hatch_alpha\":{\"value\":0.1},\"left\":{\"field\":\"left\"},\"line_alpha\":{\"value\":0.1},\"line_color\":{\"value\":\"#1f77b4\"},\"right\":{\"field\":\"right\"},\"top\":{\"field\":\"top\"}},\"id\":\"1168\",\"type\":\"Quad\"},{\"attributes\":{},\"id\":\"1133\",\"type\":\"LinearScale\"},{\"attributes\":{\"toolbar\":{\"id\":\"1186\"},\"toolbar_location\":\"above\"},\"id\":\"1187\",\"type\":\"ToolbarBox\"},{\"attributes\":{},\"id\":\"1176\",\"type\":\"BasicTickFormatter\"},{\"attributes\":{},\"id\":\"1136\",\"type\":\"BasicTicker\"},{\"attributes\":{\"axis\":{\"id\":\"1135\"},\"coordinates\":null,\"group\":null,\"ticker\":null},\"id\":\"1138\",\"type\":\"Grid\"},{\"attributes\":{},\"id\":\"1140\",\"type\":\"BasicTicker\"},{\"attributes\":{\"source\":{\"id\":\"1166\"}},\"id\":\"1171\",\"type\":\"CDSView\"},{\"attributes\":{},\"id\":\"1181\",\"type\":\"UnionRenderers\"},{\"attributes\":{\"align\":\"center\",\"coordinates\":null,\"group\":null,\"text\":\"500ms.fcs\"},\"id\":\"1172\",\"type\":\"Title\"},{\"attributes\":{\"bottom\":{\"value\":0},\"fill_alpha\":{\"value\":0.2},\"fill_color\":{\"value\":\"#1f77b4\"},\"hatch_alpha\":{\"value\":0.2},\"left\":{\"field\":\"left\"},\"line_alpha\":{\"value\":0.2},\"line_color\":{\"value\":\"#1f77b4\"},\"right\":{\"field\":\"right\"},\"top\":{\"field\":\"top\"}},\"id\":\"1169\",\"type\":\"Quad\"},{\"attributes\":{},\"id\":\"1182\",\"type\":\"Selection\"},{\"attributes\":{\"tools\":[{\"id\":\"1143\"},{\"id\":\"1144\"},{\"id\":\"1145\"},{\"id\":\"1146\"},{\"id\":\"1147\"},{\"id\":\"1148\"},{\"id\":\"1149\"},{\"id\":\"1150\"},{\"id\":\"1151\"},{\"id\":\"1152\"}]},\"id\":\"1154\",\"type\":\"Toolbar\"},{\"attributes\":{\"data\":{\"left\":{\"__ndarray__\":\"AAAAIL04AcDYUF5DRzP+v6+hvEYU9fm/hvIaSuG29b9eQ3lNrnjxv2wor6H2dOq/GsprqJD44b+Q11BeVfjSvwCvobyW+J+/YEN5DYXyzT9QXkN5DvLfP3wN5TVtdeg/5jWUl+l48D8O5TWUHLf0PziU15BP9fg/YEN5jYIz/T9EeQ3F2rgAQNhQXkP01wJAbCivwQ33BEA=\",\"dtype\":\"float64\",\"order\":\"little\",\"shape\":[19]},\"right\":{\"__ndarray__\":\"2FBeQ0cz/r+vobxGFPX5v4byGkrhtvW/XkN5Ta548b9sKK+h9nTqvxrKa6iQ+OG/kNdQXlX40r8Ar6G8lvifv2BDeQ2F8s0/UF5DeQ7y3z98DeU1bXXoP+Y1lJfpePA/DuU1lBy39D84lNeQT/X4P2BDeY2CM/0/RHkNxdq4AEDYUF5D9NcCQGwor8EN9wRAAAAAQCcWB0A=\",\"dtype\":\"float64\",\"order\":\"little\",\"shape\":[19]},\"top\":[6,12,13,19,24,27,36,26,33,38,27,23,19,9,11,5,5,1,2]},\"selected\":{\"id\":\"1182\"},\"selection_policy\":{\"id\":\"1181\"}},\"id\":\"1166\",\"type\":\"ColumnDataSource\"},{\"attributes\":{\"bottom\":{\"value\":0},\"fill_alpha\":{\"value\":0.5},\"fill_color\":{\"value\":\"#1f77b4\"},\"hatch_alpha\":{\"value\":0.5},\"left\":{\"field\":\"left\"},\"line_alpha\":{\"value\":0.5},\"line_color\":{\"value\":\"#1f77b4\"},\"right\":{\"field\":\"right\"},\"top\":{\"field\":\"top\"}},\"id\":\"1167\",\"type\":\"Quad\"},{\"attributes\":{\"children\":[[{\"id\":\"1126\"},0,0]]},\"id\":\"1185\",\"type\":\"GridBox\"},{\"attributes\":{\"coordinates\":null,\"data_source\":{\"id\":\"1166\"},\"glyph\":{\"id\":\"1167\"},\"group\":null,\"hover_glyph\":null,\"muted_glyph\":{\"id\":\"1169\"},\"nonselection_glyph\":{\"id\":\"1168\"},\"view\":{\"id\":\"1171\"}},\"id\":\"1170\",\"type\":\"GlyphRenderer\"},{\"attributes\":{\"toolbars\":[{\"id\":\"1154\"}],\"tools\":[{\"id\":\"1143\"},{\"id\":\"1144\"},{\"id\":\"1145\"},{\"id\":\"1146\"},{\"id\":\"1147\"},{\"id\":\"1148\"},{\"id\":\"1149\"},{\"id\":\"1150\"},{\"id\":\"1151\"},{\"id\":\"1152\"}]},\"id\":\"1186\",\"type\":\"ProxyToolbar\"},{\"attributes\":{},\"id\":\"1179\",\"type\":\"BasicTickFormatter\"},{\"attributes\":{\"callback\":null},\"id\":\"1144\",\"type\":\"HoverTool\"},{\"attributes\":{},\"id\":\"1131\",\"type\":\"LinearScale\"},{\"attributes\":{},\"id\":\"1150\",\"type\":\"RedoTool\"},{\"attributes\":{},\"id\":\"1127\",\"type\":\"DataRange1d\"},{\"attributes\":{},\"id\":\"1143\",\"type\":\"CrosshairTool\"},{\"attributes\":{},\"id\":\"1149\",\"type\":\"UndoTool\"},{\"attributes\":{},\"id\":\"1145\",\"type\":\"PanTool\"},{\"attributes\":{\"below\":[{\"id\":\"1135\"}],\"center\":[{\"id\":\"1138\"},{\"id\":\"1142\"}],\"height\":200,\"left\":[{\"id\":\"1139\"}],\"renderers\":[{\"id\":\"1170\"}],\"title\":{\"id\":\"1172\"},\"toolbar\":{\"id\":\"1154\"},\"toolbar_location\":null,\"width\":200,\"x_range\":{\"id\":\"1127\"},\"x_scale\":{\"id\":\"1131\"},\"y_range\":{\"id\":\"1129\"},\"y_scale\":{\"id\":\"1133\"}},\"id\":\"1126\",\"subtype\":\"Figure\",\"type\":\"Plot\"},{\"attributes\":{},\"id\":\"1146\",\"type\":\"ZoomInTool\"},{\"attributes\":{\"overlay\":{\"id\":\"1153\"}},\"id\":\"1148\",\"type\":\"BoxZoomTool\"},{\"attributes\":{},\"id\":\"1177\",\"type\":\"AllLabels\"},{\"attributes\":{\"bottom_units\":\"screen\",\"coordinates\":null,\"fill_alpha\":0.5,\"fill_color\":\"lightgrey\",\"group\":null,\"left_units\":\"screen\",\"level\":\"overlay\",\"line_alpha\":1.0,\"line_color\":\"black\",\"line_dash\":[4,4],\"line_width\":2,\"right_units\":\"screen\",\"syncable\":false,\"top_units\":\"screen\"},\"id\":\"1153\",\"type\":\"BoxAnnotation\"},{\"attributes\":{},\"id\":\"1180\",\"type\":\"AllLabels\"},{\"attributes\":{\"axis_label\":\"Event Count\",\"coordinates\":null,\"formatter\":{\"id\":\"1176\"},\"group\":null,\"major_label_policy\":{\"id\":\"1177\"},\"ticker\":{\"id\":\"1140\"}},\"id\":\"1139\",\"type\":\"LinearAxis\"},{\"attributes\":{},\"id\":\"1152\",\"type\":\"SaveTool\"},{\"attributes\":{},\"id\":\"1147\",\"type\":\"ZoomOutTool\"}],\"root_ids\":[\"1188\"]},\"title\":\"Bokeh Application\",\"version\":\"2.4.3\"}};\n",
       "  const render_items = [{\"docid\":\"f0f764e7-bef8-4b22-b8a5-82a2e7a38aaf\",\"root_ids\":[\"1188\"],\"roots\":{\"1188\":\"11649534-c725-49bd-b7da-0934198dce85\"}}];\n",
       "  root.Bokeh.embed.embed_items_notebook(docs_json, render_items);\n",
       "  }\n",
       "  if (root.Bokeh !== undefined) {\n",
       "    embed_document(root);\n",
       "  } else {\n",
       "    let attempts = 0;\n",
       "    const timer = setInterval(function(root) {\n",
       "      if (root.Bokeh !== undefined) {\n",
       "        clearInterval(timer);\n",
       "        embed_document(root);\n",
       "      } else {\n",
       "        attempts++;\n",
       "        if (attempts > 100) {\n",
       "          clearInterval(timer);\n",
       "          console.log(\"Bokeh: ERROR: Unable to run BokehJS code because BokehJS library is missing\");\n",
       "        }\n",
       "      }\n",
       "    }, 10, root)\n",
       "  }\n",
       "})(window);"
      ],
      "application/vnd.bokehjs_exec.v0+json": ""
     },
     "metadata": {
      "application/vnd.bokehjs_exec.v0+json": {
       "id": "1188"
      }
     },
     "output_type": "display_data"
    },
    {
     "data": {
      "text/html": [
       "\n",
       "  <div class=\"bk-root\" id=\"6e2654b7-891f-4c17-acd8-35cd96a58e82\" data-root-id=\"1321\"></div>\n"
      ]
     },
     "metadata": {},
     "output_type": "display_data"
    },
    {
     "data": {
      "application/javascript": [
       "(function(root) {\n",
       "  function embed_document(root) {\n",
       "  const docs_json = {\"e5cad0bb-011c-4f7c-9ea6-19e97b919186\":{\"defs\":[],\"roots\":{\"references\":[{\"attributes\":{\"children\":[{\"id\":\"1320\"},{\"id\":\"1318\"}]},\"id\":\"1321\",\"type\":\"Column\"},{\"attributes\":{\"tools\":[{\"id\":\"1276\"},{\"id\":\"1277\"},{\"id\":\"1278\"},{\"id\":\"1279\"},{\"id\":\"1280\"},{\"id\":\"1281\"},{\"id\":\"1282\"},{\"id\":\"1283\"},{\"id\":\"1284\"},{\"id\":\"1285\"}]},\"id\":\"1287\",\"type\":\"Toolbar\"},{\"attributes\":{},\"id\":\"1310\",\"type\":\"AllLabels\"},{\"attributes\":{\"coordinates\":null,\"data_source\":{\"id\":\"1299\"},\"glyph\":{\"id\":\"1300\"},\"group\":null,\"hover_glyph\":null,\"muted_glyph\":{\"id\":\"1302\"},\"nonselection_glyph\":{\"id\":\"1301\"},\"view\":{\"id\":\"1304\"}},\"id\":\"1303\",\"type\":\"GlyphRenderer\"},{\"attributes\":{},\"id\":\"1269\",\"type\":\"BasicTicker\"},{\"attributes\":{\"source\":{\"id\":\"1299\"}},\"id\":\"1304\",\"type\":\"CDSView\"},{\"attributes\":{},\"id\":\"1312\",\"type\":\"BasicTickFormatter\"},{\"attributes\":{},\"id\":\"1273\",\"type\":\"BasicTicker\"},{\"attributes\":{},\"id\":\"1266\",\"type\":\"LinearScale\"},{\"attributes\":{},\"id\":\"1278\",\"type\":\"PanTool\"},{\"attributes\":{\"below\":[{\"id\":\"1268\"}],\"center\":[{\"id\":\"1271\"},{\"id\":\"1275\"}],\"height\":200,\"left\":[{\"id\":\"1272\"}],\"renderers\":[{\"id\":\"1303\"}],\"title\":{\"id\":\"1305\"},\"toolbar\":{\"id\":\"1287\"},\"toolbar_location\":null,\"width\":200,\"x_range\":{\"id\":\"1260\"},\"x_scale\":{\"id\":\"1264\"},\"y_range\":{\"id\":\"1262\"},\"y_scale\":{\"id\":\"1266\"}},\"id\":\"1259\",\"subtype\":\"Figure\",\"type\":\"Plot\"},{\"attributes\":{\"children\":[[{\"id\":\"1259\"},0,0]]},\"id\":\"1318\",\"type\":\"GridBox\"},{\"attributes\":{\"start\":0},\"id\":\"1262\",\"type\":\"DataRange1d\"},{\"attributes\":{\"axis\":{\"id\":\"1272\"},\"coordinates\":null,\"dimension\":1,\"group\":null,\"ticker\":null},\"id\":\"1275\",\"type\":\"Grid\"},{\"attributes\":{},\"id\":\"1282\",\"type\":\"UndoTool\"},{\"attributes\":{\"axis\":{\"id\":\"1268\"},\"coordinates\":null,\"group\":null,\"ticker\":null},\"id\":\"1271\",\"type\":\"Grid\"},{\"attributes\":{\"bottom\":{\"value\":0},\"fill_alpha\":{\"value\":0.5},\"fill_color\":{\"value\":\"#1f77b4\"},\"hatch_alpha\":{\"value\":0.5},\"left\":{\"field\":\"left\"},\"line_alpha\":{\"value\":0.5},\"line_color\":{\"value\":\"#1f77b4\"},\"right\":{\"field\":\"right\"},\"top\":{\"field\":\"top\"}},\"id\":\"1300\",\"type\":\"Quad\"},{\"attributes\":{},\"id\":\"1309\",\"type\":\"BasicTickFormatter\"},{\"attributes\":{},\"id\":\"1276\",\"type\":\"CrosshairTool\"},{\"attributes\":{},\"id\":\"1280\",\"type\":\"ZoomOutTool\"},{\"attributes\":{},\"id\":\"1313\",\"type\":\"AllLabels\"},{\"attributes\":{},\"id\":\"1260\",\"type\":\"DataRange1d\"},{\"attributes\":{\"data\":{\"left\":{\"__ndarray__\":\"AAAAgOvWAsCvobzmPr4AwLyG8pokS/2/G8praMsZ+b95DeU1cuj0v9dQXgMZt/C/bCivoX8L6b8or6E8zajgv8hrKK81jNC/AGBDeY2XbD9IeQ3lk/7QP+g1lFf84eA/KK+hvK5E6T82lNeQsNPwP9hQXsMJBfU/eg3l9WI2+T8cymsovGf9P15Dea2KzABAsKG8RjflAkA=\",\"dtype\":\"float64\",\"order\":\"little\",\"shape\":[19]},\"right\":{\"__ndarray__\":\"r6G85j6+AMC8hvKaJEv9vxvKa2jLGfm/eQ3lNXLo9L/XUF4DGbfwv2wor6F/C+m/KK+hPM2o4L/IayivNYzQvwBgQ3mNl2w/SHkN5ZP+0D/oNZRX/OHgPyivobyuROk/NpTXkLDT8D/YUF7DCQX1P3oN5fViNvk/HMprKLxn/T9eQ3mtiswAQLChvEY35QJAAAAA4OP9BEA=\",\"dtype\":\"float64\",\"order\":\"little\",\"shape\":[19]},\"top\":[3,8,6,18,18,25,22,41,30,34,32,26,24,15,5,16,8,2,3]},\"selected\":{\"id\":\"1315\"},\"selection_policy\":{\"id\":\"1314\"}},\"id\":\"1299\",\"type\":\"ColumnDataSource\"},{\"attributes\":{},\"id\":\"1314\",\"type\":\"UnionRenderers\"},{\"attributes\":{},\"id\":\"1284\",\"type\":\"ResetTool\"},{\"attributes\":{},\"id\":\"1315\",\"type\":\"Selection\"},{\"attributes\":{\"callback\":null},\"id\":\"1277\",\"type\":\"HoverTool\"},{\"attributes\":{},\"id\":\"1279\",\"type\":\"ZoomInTool\"},{\"attributes\":{\"align\":\"center\",\"coordinates\":null,\"group\":null,\"text\":\"500ms.fcs\"},\"id\":\"1305\",\"type\":\"Title\"},{\"attributes\":{\"toolbar\":{\"id\":\"1319\"},\"toolbar_location\":\"above\"},\"id\":\"1320\",\"type\":\"ToolbarBox\"},{\"attributes\":{\"overlay\":{\"id\":\"1286\"}},\"id\":\"1281\",\"type\":\"BoxZoomTool\"},{\"attributes\":{},\"id\":\"1285\",\"type\":\"SaveTool\"},{\"attributes\":{\"toolbars\":[{\"id\":\"1287\"}],\"tools\":[{\"id\":\"1276\"},{\"id\":\"1277\"},{\"id\":\"1278\"},{\"id\":\"1279\"},{\"id\":\"1280\"},{\"id\":\"1281\"},{\"id\":\"1282\"},{\"id\":\"1283\"},{\"id\":\"1284\"},{\"id\":\"1285\"}]},\"id\":\"1319\",\"type\":\"ProxyToolbar\"},{\"attributes\":{\"axis_label\":\"FSC-W\",\"coordinates\":null,\"formatter\":{\"id\":\"1312\"},\"group\":null,\"major_label_policy\":{\"id\":\"1313\"},\"ticker\":{\"id\":\"1269\"}},\"id\":\"1268\",\"type\":\"LinearAxis\"},{\"attributes\":{\"bottom_units\":\"screen\",\"coordinates\":null,\"fill_alpha\":0.5,\"fill_color\":\"lightgrey\",\"group\":null,\"left_units\":\"screen\",\"level\":\"overlay\",\"line_alpha\":1.0,\"line_color\":\"black\",\"line_dash\":[4,4],\"line_width\":2,\"right_units\":\"screen\",\"syncable\":false,\"top_units\":\"screen\"},\"id\":\"1286\",\"type\":\"BoxAnnotation\"},{\"attributes\":{\"bottom\":{\"value\":0},\"fill_alpha\":{\"value\":0.1},\"fill_color\":{\"value\":\"#1f77b4\"},\"hatch_alpha\":{\"value\":0.1},\"left\":{\"field\":\"left\"},\"line_alpha\":{\"value\":0.1},\"line_color\":{\"value\":\"#1f77b4\"},\"right\":{\"field\":\"right\"},\"top\":{\"field\":\"top\"}},\"id\":\"1301\",\"type\":\"Quad\"},{\"attributes\":{\"axis_label\":\"Event Count\",\"coordinates\":null,\"formatter\":{\"id\":\"1309\"},\"group\":null,\"major_label_policy\":{\"id\":\"1310\"},\"ticker\":{\"id\":\"1273\"}},\"id\":\"1272\",\"type\":\"LinearAxis\"},{\"attributes\":{\"bottom\":{\"value\":0},\"fill_alpha\":{\"value\":0.2},\"fill_color\":{\"value\":\"#1f77b4\"},\"hatch_alpha\":{\"value\":0.2},\"left\":{\"field\":\"left\"},\"line_alpha\":{\"value\":0.2},\"line_color\":{\"value\":\"#1f77b4\"},\"right\":{\"field\":\"right\"},\"top\":{\"field\":\"top\"}},\"id\":\"1302\",\"type\":\"Quad\"},{\"attributes\":{},\"id\":\"1283\",\"type\":\"RedoTool\"},{\"attributes\":{},\"id\":\"1264\",\"type\":\"LinearScale\"}],\"root_ids\":[\"1321\"]},\"title\":\"Bokeh Application\",\"version\":\"2.4.3\"}};\n",
       "  const render_items = [{\"docid\":\"e5cad0bb-011c-4f7c-9ea6-19e97b919186\",\"root_ids\":[\"1321\"],\"roots\":{\"1321\":\"6e2654b7-891f-4c17-acd8-35cd96a58e82\"}}];\n",
       "  root.Bokeh.embed.embed_items_notebook(docs_json, render_items);\n",
       "  }\n",
       "  if (root.Bokeh !== undefined) {\n",
       "    embed_document(root);\n",
       "  } else {\n",
       "    let attempts = 0;\n",
       "    const timer = setInterval(function(root) {\n",
       "      if (root.Bokeh !== undefined) {\n",
       "        clearInterval(timer);\n",
       "        embed_document(root);\n",
       "      } else {\n",
       "        attempts++;\n",
       "        if (attempts > 100) {\n",
       "          clearInterval(timer);\n",
       "          console.log(\"Bokeh: ERROR: Unable to run BokehJS code because BokehJS library is missing\");\n",
       "        }\n",
       "      }\n",
       "    }, 10, root)\n",
       "  }\n",
       "})(window);"
      ],
      "application/vnd.bokehjs_exec.v0+json": ""
     },
     "metadata": {
      "application/vnd.bokehjs_exec.v0+json": {
       "id": "1321"
      }
     },
     "output_type": "display_data"
    },
    {
     "data": {
      "text/html": [
       "\n",
       "  <div class=\"bk-root\" id=\"1d73c2e8-b967-4982-93f3-075dca566c61\" data-root-id=\"1464\"></div>\n"
      ]
     },
     "metadata": {},
     "output_type": "display_data"
    },
    {
     "data": {
      "application/javascript": [
       "(function(root) {\n",
       "  function embed_document(root) {\n",
       "  const docs_json = {\"8a4b445a-dd74-4651-bdd2-bb8adcae0421\":{\"defs\":[],\"roots\":{\"references\":[{\"attributes\":{\"children\":[{\"id\":\"1463\"},{\"id\":\"1461\"}]},\"id\":\"1464\",\"type\":\"Column\"},{\"attributes\":{},\"id\":\"1425\",\"type\":\"UndoTool\"},{\"attributes\":{\"source\":{\"id\":\"1442\"}},\"id\":\"1447\",\"type\":\"CDSView\"},{\"attributes\":{\"bottom\":{\"value\":0},\"fill_alpha\":{\"value\":0.2},\"fill_color\":{\"value\":\"#1f77b4\"},\"hatch_alpha\":{\"value\":0.2},\"left\":{\"field\":\"left\"},\"line_alpha\":{\"value\":0.2},\"line_color\":{\"value\":\"#1f77b4\"},\"right\":{\"field\":\"right\"},\"top\":{\"field\":\"top\"}},\"id\":\"1445\",\"type\":\"Quad\"},{\"attributes\":{},\"id\":\"1422\",\"type\":\"ZoomInTool\"},{\"attributes\":{\"below\":[{\"id\":\"1411\"}],\"center\":[{\"id\":\"1414\"},{\"id\":\"1418\"}],\"height\":200,\"left\":[{\"id\":\"1415\"}],\"renderers\":[{\"id\":\"1446\"}],\"title\":{\"id\":\"1448\"},\"toolbar\":{\"id\":\"1430\"},\"toolbar_location\":null,\"width\":200,\"x_range\":{\"id\":\"1403\"},\"x_scale\":{\"id\":\"1407\"},\"y_range\":{\"id\":\"1405\"},\"y_scale\":{\"id\":\"1409\"}},\"id\":\"1402\",\"subtype\":\"Figure\",\"type\":\"Plot\"},{\"attributes\":{},\"id\":\"1423\",\"type\":\"ZoomOutTool\"},{\"attributes\":{},\"id\":\"1403\",\"type\":\"DataRange1d\"},{\"attributes\":{},\"id\":\"1428\",\"type\":\"SaveTool\"},{\"attributes\":{},\"id\":\"1409\",\"type\":\"LinearScale\"},{\"attributes\":{},\"id\":\"1453\",\"type\":\"AllLabels\"},{\"attributes\":{},\"id\":\"1457\",\"type\":\"UnionRenderers\"},{\"attributes\":{},\"id\":\"1407\",\"type\":\"LinearScale\"},{\"attributes\":{},\"id\":\"1455\",\"type\":\"BasicTickFormatter\"},{\"attributes\":{\"overlay\":{\"id\":\"1429\"}},\"id\":\"1424\",\"type\":\"BoxZoomTool\"},{\"attributes\":{\"axis\":{\"id\":\"1415\"},\"coordinates\":null,\"dimension\":1,\"group\":null,\"ticker\":null},\"id\":\"1418\",\"type\":\"Grid\"},{\"attributes\":{},\"id\":\"1456\",\"type\":\"AllLabels\"},{\"attributes\":{},\"id\":\"1426\",\"type\":\"RedoTool\"},{\"attributes\":{},\"id\":\"1458\",\"type\":\"Selection\"},{\"attributes\":{\"axis_label\":\"FSC-H\",\"coordinates\":null,\"formatter\":{\"id\":\"1455\"},\"group\":null,\"major_label_policy\":{\"id\":\"1456\"},\"ticker\":{\"id\":\"1412\"}},\"id\":\"1411\",\"type\":\"LinearAxis\"},{\"attributes\":{},\"id\":\"1427\",\"type\":\"ResetTool\"},{\"attributes\":{\"coordinates\":null,\"data_source\":{\"id\":\"1442\"},\"glyph\":{\"id\":\"1443\"},\"group\":null,\"hover_glyph\":null,\"muted_glyph\":{\"id\":\"1445\"},\"nonselection_glyph\":{\"id\":\"1444\"},\"view\":{\"id\":\"1447\"}},\"id\":\"1446\",\"type\":\"GlyphRenderer\"},{\"attributes\":{},\"id\":\"1416\",\"type\":\"BasicTicker\"},{\"attributes\":{\"bottom\":{\"value\":0},\"fill_alpha\":{\"value\":0.1},\"fill_color\":{\"value\":\"#1f77b4\"},\"hatch_alpha\":{\"value\":0.1},\"left\":{\"field\":\"left\"},\"line_alpha\":{\"value\":0.1},\"line_color\":{\"value\":\"#1f77b4\"},\"right\":{\"field\":\"right\"},\"top\":{\"field\":\"top\"}},\"id\":\"1444\",\"type\":\"Quad\"},{\"attributes\":{\"tools\":[{\"id\":\"1419\"},{\"id\":\"1420\"},{\"id\":\"1421\"},{\"id\":\"1422\"},{\"id\":\"1423\"},{\"id\":\"1424\"},{\"id\":\"1425\"},{\"id\":\"1426\"},{\"id\":\"1427\"},{\"id\":\"1428\"}]},\"id\":\"1430\",\"type\":\"Toolbar\"},{\"attributes\":{},\"id\":\"1412\",\"type\":\"BasicTicker\"},{\"attributes\":{\"axis\":{\"id\":\"1411\"},\"coordinates\":null,\"group\":null,\"ticker\":null},\"id\":\"1414\",\"type\":\"Grid\"},{\"attributes\":{\"bottom_units\":\"screen\",\"coordinates\":null,\"fill_alpha\":0.5,\"fill_color\":\"lightgrey\",\"group\":null,\"left_units\":\"screen\",\"level\":\"overlay\",\"line_alpha\":1.0,\"line_color\":\"black\",\"line_dash\":[4,4],\"line_width\":2,\"right_units\":\"screen\",\"syncable\":false,\"top_units\":\"screen\"},\"id\":\"1429\",\"type\":\"BoxAnnotation\"},{\"attributes\":{\"bottom\":{\"value\":0},\"fill_alpha\":{\"value\":0.5},\"fill_color\":{\"value\":\"#1f77b4\"},\"hatch_alpha\":{\"value\":0.5},\"left\":{\"field\":\"left\"},\"line_alpha\":{\"value\":0.5},\"line_color\":{\"value\":\"#1f77b4\"},\"right\":{\"field\":\"right\"},\"top\":{\"field\":\"top\"}},\"id\":\"1443\",\"type\":\"Quad\"},{\"attributes\":{\"children\":[[{\"id\":\"1402\"},0,0]]},\"id\":\"1461\",\"type\":\"GridBox\"},{\"attributes\":{\"toolbar\":{\"id\":\"1462\"},\"toolbar_location\":\"above\"},\"id\":\"1463\",\"type\":\"ToolbarBox\"},{\"attributes\":{\"axis_label\":\"Event Count\",\"coordinates\":null,\"formatter\":{\"id\":\"1452\"},\"group\":null,\"major_label_policy\":{\"id\":\"1453\"},\"ticker\":{\"id\":\"1416\"}},\"id\":\"1415\",\"type\":\"LinearAxis\"},{\"attributes\":{\"callback\":null},\"id\":\"1420\",\"type\":\"HoverTool\"},{\"attributes\":{\"align\":\"center\",\"coordinates\":null,\"group\":null,\"text\":\"500ms.fcs\"},\"id\":\"1448\",\"type\":\"Title\"},{\"attributes\":{},\"id\":\"1419\",\"type\":\"CrosshairTool\"},{\"attributes\":{},\"id\":\"1421\",\"type\":\"PanTool\"},{\"attributes\":{\"toolbars\":[{\"id\":\"1430\"}],\"tools\":[{\"id\":\"1419\"},{\"id\":\"1420\"},{\"id\":\"1421\"},{\"id\":\"1422\"},{\"id\":\"1423\"},{\"id\":\"1424\"},{\"id\":\"1425\"},{\"id\":\"1426\"},{\"id\":\"1427\"},{\"id\":\"1428\"}]},\"id\":\"1462\",\"type\":\"ProxyToolbar\"},{\"attributes\":{},\"id\":\"1452\",\"type\":\"BasicTickFormatter\"},{\"attributes\":{\"data\":{\"left\":{\"__ndarray__\":\"AAAAIKsvC8BDeQ1F0tAIwIfyGmr5cQbAymsojyATBMAO5TW0R7QBwKK8hrLdqv6/KK+h/Cvt+b+wobxGei/1vzaU15DIcfC/eA3ltS1o578Q5TWUlNnbv1BeQ3mbxcG/gA3lNfInxD+gvIbyvwrdP0B5DWXDAOg/HMpraBO+8D+U11AexXv1PwzlNdR2Ofo/iPIaiij3/j8=\",\"dtype\":\"float64\",\"order\":\"little\",\"shape\":[19]},\"right\":{\"__ndarray__\":\"Q3kNRdLQCMCH8hpq+XEGwMprKI8gEwTADuU1tEe0AcCivIay3ar+vyivofwr7fm/sKG8Rnov9b82lNeQyHHwv3gN5bUtaOe/EOU1lJTZ279QXkN5m8XBv4AN5TXyJ8Q/oLyG8r8K3T9AeQ1lwwDoPxzKa2gTvvA/lNdQHsV79T8M5TXUdjn6P4jyGooo9/4/AAAAIG3aAUA=\",\"dtype\":\"float64\",\"order\":\"little\",\"shape\":[19]},\"top\":[1,1,5,5,4,9,11,15,18,26,37,40,40,42,38,28,7,8,1]},\"selected\":{\"id\":\"1458\"},\"selection_policy\":{\"id\":\"1457\"}},\"id\":\"1442\",\"type\":\"ColumnDataSource\"},{\"attributes\":{\"start\":0},\"id\":\"1405\",\"type\":\"DataRange1d\"}],\"root_ids\":[\"1464\"]},\"title\":\"Bokeh Application\",\"version\":\"2.4.3\"}};\n",
       "  const render_items = [{\"docid\":\"8a4b445a-dd74-4651-bdd2-bb8adcae0421\",\"root_ids\":[\"1464\"],\"roots\":{\"1464\":\"1d73c2e8-b967-4982-93f3-075dca566c61\"}}];\n",
       "  root.Bokeh.embed.embed_items_notebook(docs_json, render_items);\n",
       "  }\n",
       "  if (root.Bokeh !== undefined) {\n",
       "    embed_document(root);\n",
       "  } else {\n",
       "    let attempts = 0;\n",
       "    const timer = setInterval(function(root) {\n",
       "      if (root.Bokeh !== undefined) {\n",
       "        clearInterval(timer);\n",
       "        embed_document(root);\n",
       "      } else {\n",
       "        attempts++;\n",
       "        if (attempts > 100) {\n",
       "          clearInterval(timer);\n",
       "          console.log(\"Bokeh: ERROR: Unable to run BokehJS code because BokehJS library is missing\");\n",
       "        }\n",
       "      }\n",
       "    }, 10, root)\n",
       "  }\n",
       "})(window);"
      ],
      "application/vnd.bokehjs_exec.v0+json": ""
     },
     "metadata": {
      "application/vnd.bokehjs_exec.v0+json": {
       "id": "1464"
      }
     },
     "output_type": "display_data"
    },
    {
     "data": {
      "text/html": [
       "\n",
       "  <div class=\"bk-root\" id=\"f1d27331-dd8d-4ac4-8744-44acc5eff551\" data-root-id=\"1617\"></div>\n"
      ]
     },
     "metadata": {},
     "output_type": "display_data"
    },
    {
     "data": {
      "application/javascript": [
       "(function(root) {\n",
       "  function embed_document(root) {\n",
       "  const docs_json = {\"8631db88-d175-4070-b778-06cfef6ad06b\":{\"defs\":[],\"roots\":{\"references\":[{\"attributes\":{\"children\":[{\"id\":\"1616\"},{\"id\":\"1614\"}]},\"id\":\"1617\",\"type\":\"Column\"},{\"attributes\":{},\"id\":\"1580\",\"type\":\"ResetTool\"},{\"attributes\":{\"source\":{\"id\":\"1595\"}},\"id\":\"1600\",\"type\":\"CDSView\"},{\"attributes\":{\"axis\":{\"id\":\"1568\"},\"coordinates\":null,\"dimension\":1,\"group\":null,\"ticker\":null},\"id\":\"1571\",\"type\":\"Grid\"},{\"attributes\":{\"below\":[{\"id\":\"1564\"}],\"center\":[{\"id\":\"1567\"},{\"id\":\"1571\"}],\"height\":200,\"left\":[{\"id\":\"1568\"}],\"renderers\":[{\"id\":\"1599\"}],\"title\":{\"id\":\"1601\"},\"toolbar\":{\"id\":\"1583\"},\"toolbar_location\":null,\"width\":200,\"x_range\":{\"id\":\"1556\"},\"x_scale\":{\"id\":\"1560\"},\"y_range\":{\"id\":\"1558\"},\"y_scale\":{\"id\":\"1562\"}},\"id\":\"1555\",\"subtype\":\"Figure\",\"type\":\"Plot\"},{\"attributes\":{},\"id\":\"1569\",\"type\":\"BasicTicker\"},{\"attributes\":{\"align\":\"center\",\"coordinates\":null,\"group\":null,\"text\":\"500ms.fcs\"},\"id\":\"1601\",\"type\":\"Title\"},{\"attributes\":{\"bottom\":{\"value\":0},\"fill_alpha\":{\"value\":0.2},\"fill_color\":{\"value\":\"#1f77b4\"},\"hatch_alpha\":{\"value\":0.2},\"left\":{\"field\":\"left\"},\"line_alpha\":{\"value\":0.2},\"line_color\":{\"value\":\"#1f77b4\"},\"right\":{\"field\":\"right\"},\"top\":{\"field\":\"top\"}},\"id\":\"1598\",\"type\":\"Quad\"},{\"attributes\":{\"bottom_units\":\"screen\",\"coordinates\":null,\"fill_alpha\":0.5,\"fill_color\":\"lightgrey\",\"group\":null,\"left_units\":\"screen\",\"level\":\"overlay\",\"line_alpha\":1.0,\"line_color\":\"black\",\"line_dash\":[4,4],\"line_width\":2,\"right_units\":\"screen\",\"syncable\":false,\"top_units\":\"screen\"},\"id\":\"1582\",\"type\":\"BoxAnnotation\"},{\"attributes\":{\"toolbar\":{\"id\":\"1615\"},\"toolbar_location\":\"above\"},\"id\":\"1616\",\"type\":\"ToolbarBox\"},{\"attributes\":{\"coordinates\":null,\"data_source\":{\"id\":\"1595\"},\"glyph\":{\"id\":\"1596\"},\"group\":null,\"hover_glyph\":null,\"muted_glyph\":{\"id\":\"1598\"},\"nonselection_glyph\":{\"id\":\"1597\"},\"view\":{\"id\":\"1600\"}},\"id\":\"1599\",\"type\":\"GlyphRenderer\"},{\"attributes\":{\"toolbars\":[{\"id\":\"1583\"}],\"tools\":[{\"id\":\"1572\"},{\"id\":\"1573\"},{\"id\":\"1574\"},{\"id\":\"1575\"},{\"id\":\"1576\"},{\"id\":\"1577\"},{\"id\":\"1578\"},{\"id\":\"1579\"},{\"id\":\"1580\"},{\"id\":\"1581\"}]},\"id\":\"1615\",\"type\":\"ProxyToolbar\"},{\"attributes\":{\"bottom\":{\"value\":0},\"fill_alpha\":{\"value\":0.5},\"fill_color\":{\"value\":\"#1f77b4\"},\"hatch_alpha\":{\"value\":0.5},\"left\":{\"field\":\"left\"},\"line_alpha\":{\"value\":0.5},\"line_color\":{\"value\":\"#1f77b4\"},\"right\":{\"field\":\"right\"},\"top\":{\"field\":\"top\"}},\"id\":\"1596\",\"type\":\"Quad\"},{\"attributes\":{\"bottom\":{\"value\":0},\"fill_alpha\":{\"value\":0.1},\"fill_color\":{\"value\":\"#1f77b4\"},\"hatch_alpha\":{\"value\":0.1},\"left\":{\"field\":\"left\"},\"line_alpha\":{\"value\":0.1},\"line_color\":{\"value\":\"#1f77b4\"},\"right\":{\"field\":\"right\"},\"top\":{\"field\":\"top\"}},\"id\":\"1597\",\"type\":\"Quad\"},{\"attributes\":{},\"id\":\"1605\",\"type\":\"BasicTickFormatter\"},{\"attributes\":{},\"id\":\"1610\",\"type\":\"UnionRenderers\"},{\"attributes\":{\"data\":{\"left\":{\"__ndarray__\":\"AAAAIHxDBsCU11B+wkEEwCivodwIQALAvYbyOk8+AMCivIYyK3n8v8prKO+3dfi/8xrKq0Ry9L8cymto0W7wv4jyGkq81ui/2FBew9XP4L9QXkN53pHRv4CvobwWQZi/0FBeQ3cTzT/IayiviJfeP5DXUN6qUuc/QHkNZZFZ7z94DeX1O7DzP1BeQzmvs/c/KK+hfCK3+z8=\",\"dtype\":\"float64\",\"order\":\"little\",\"shape\":[19]},\"right\":{\"__ndarray__\":\"lNdQfsJBBMAor6HcCEACwL2G8jpPPgDAoryGMit5/L/Kayjvt3X4v/MayqtEcvS/HMpraNFu8L+I8hpKvNbov9hQXsPVz+C/UF5Ded6R0b+Ar6G8FkGYv9BQXkN3E80/yGsor4iX3j+Q11DeqlLnP0B5DWWRWe8/eA3l9Tuw8z9QXkM5r7P3PyivoXwit/s/AAAAwJW6/z8=\",\"dtype\":\"float64\",\"order\":\"little\",\"shape\":[19]},\"top\":[2,2,4,11,8,12,19,20,19,21,35,36,31,33,25,23,15,11,9]},\"selected\":{\"id\":\"1611\"},\"selection_policy\":{\"id\":\"1610\"}},\"id\":\"1595\",\"type\":\"ColumnDataSource\"},{\"attributes\":{},\"id\":\"1609\",\"type\":\"AllLabels\"},{\"attributes\":{},\"id\":\"1572\",\"type\":\"CrosshairTool\"},{\"attributes\":{\"axis\":{\"id\":\"1564\"},\"coordinates\":null,\"group\":null,\"ticker\":null},\"id\":\"1567\",\"type\":\"Grid\"},{\"attributes\":{\"axis_label\":\"Event Count\",\"coordinates\":null,\"formatter\":{\"id\":\"1605\"},\"group\":null,\"major_label_policy\":{\"id\":\"1606\"},\"ticker\":{\"id\":\"1569\"}},\"id\":\"1568\",\"type\":\"LinearAxis\"},{\"attributes\":{},\"id\":\"1611\",\"type\":\"Selection\"},{\"attributes\":{\"callback\":null},\"id\":\"1573\",\"type\":\"HoverTool\"},{\"attributes\":{},\"id\":\"1556\",\"type\":\"DataRange1d\"},{\"attributes\":{},\"id\":\"1574\",\"type\":\"PanTool\"},{\"attributes\":{},\"id\":\"1578\",\"type\":\"UndoTool\"},{\"attributes\":{},\"id\":\"1608\",\"type\":\"BasicTickFormatter\"},{\"attributes\":{},\"id\":\"1575\",\"type\":\"ZoomInTool\"},{\"attributes\":{},\"id\":\"1562\",\"type\":\"LinearScale\"},{\"attributes\":{},\"id\":\"1606\",\"type\":\"AllLabels\"},{\"attributes\":{\"children\":[[{\"id\":\"1555\"},0,0]]},\"id\":\"1614\",\"type\":\"GridBox\"},{\"attributes\":{},\"id\":\"1576\",\"type\":\"ZoomOutTool\"},{\"attributes\":{\"start\":0},\"id\":\"1558\",\"type\":\"DataRange1d\"},{\"attributes\":{\"axis_label\":\"SSC-A\",\"coordinates\":null,\"formatter\":{\"id\":\"1608\"},\"group\":null,\"major_label_policy\":{\"id\":\"1609\"},\"ticker\":{\"id\":\"1565\"}},\"id\":\"1564\",\"type\":\"LinearAxis\"},{\"attributes\":{\"tools\":[{\"id\":\"1572\"},{\"id\":\"1573\"},{\"id\":\"1574\"},{\"id\":\"1575\"},{\"id\":\"1576\"},{\"id\":\"1577\"},{\"id\":\"1578\"},{\"id\":\"1579\"},{\"id\":\"1580\"},{\"id\":\"1581\"}]},\"id\":\"1583\",\"type\":\"Toolbar\"},{\"attributes\":{},\"id\":\"1581\",\"type\":\"SaveTool\"},{\"attributes\":{},\"id\":\"1565\",\"type\":\"BasicTicker\"},{\"attributes\":{\"overlay\":{\"id\":\"1582\"}},\"id\":\"1577\",\"type\":\"BoxZoomTool\"},{\"attributes\":{},\"id\":\"1560\",\"type\":\"LinearScale\"},{\"attributes\":{},\"id\":\"1579\",\"type\":\"RedoTool\"}],\"root_ids\":[\"1617\"]},\"title\":\"Bokeh Application\",\"version\":\"2.4.3\"}};\n",
       "  const render_items = [{\"docid\":\"8631db88-d175-4070-b778-06cfef6ad06b\",\"root_ids\":[\"1617\"],\"roots\":{\"1617\":\"f1d27331-dd8d-4ac4-8744-44acc5eff551\"}}];\n",
       "  root.Bokeh.embed.embed_items_notebook(docs_json, render_items);\n",
       "  }\n",
       "  if (root.Bokeh !== undefined) {\n",
       "    embed_document(root);\n",
       "  } else {\n",
       "    let attempts = 0;\n",
       "    const timer = setInterval(function(root) {\n",
       "      if (root.Bokeh !== undefined) {\n",
       "        clearInterval(timer);\n",
       "        embed_document(root);\n",
       "      } else {\n",
       "        attempts++;\n",
       "        if (attempts > 100) {\n",
       "          clearInterval(timer);\n",
       "          console.log(\"Bokeh: ERROR: Unable to run BokehJS code because BokehJS library is missing\");\n",
       "        }\n",
       "      }\n",
       "    }, 10, root)\n",
       "  }\n",
       "})(window);"
      ],
      "application/vnd.bokehjs_exec.v0+json": ""
     },
     "metadata": {
      "application/vnd.bokehjs_exec.v0+json": {
       "id": "1617"
      }
     },
     "output_type": "display_data"
    },
    {
     "data": {
      "text/html": [
       "\n",
       "  <div class=\"bk-root\" id=\"11b440f0-123a-48dc-9c82-34b94469afa2\" data-root-id=\"1780\"></div>\n"
      ]
     },
     "metadata": {},
     "output_type": "display_data"
    },
    {
     "data": {
      "application/javascript": [
       "(function(root) {\n",
       "  function embed_document(root) {\n",
       "  const docs_json = {\"6afa8845-04a3-46de-b563-76f9d95d34a0\":{\"defs\":[],\"roots\":{\"references\":[{\"attributes\":{\"children\":[{\"id\":\"1779\"},{\"id\":\"1777\"}]},\"id\":\"1780\",\"type\":\"Column\"},{\"attributes\":{},\"id\":\"1739\",\"type\":\"ZoomOutTool\"},{\"attributes\":{\"start\":0},\"id\":\"1721\",\"type\":\"DataRange1d\"},{\"attributes\":{},\"id\":\"1771\",\"type\":\"BasicTickFormatter\"},{\"attributes\":{\"bottom_units\":\"screen\",\"coordinates\":null,\"fill_alpha\":0.5,\"fill_color\":\"lightgrey\",\"group\":null,\"left_units\":\"screen\",\"level\":\"overlay\",\"line_alpha\":1.0,\"line_color\":\"black\",\"line_dash\":[4,4],\"line_width\":2,\"right_units\":\"screen\",\"syncable\":false,\"top_units\":\"screen\"},\"id\":\"1745\",\"type\":\"BoxAnnotation\"},{\"attributes\":{\"tools\":[{\"id\":\"1735\"},{\"id\":\"1736\"},{\"id\":\"1737\"},{\"id\":\"1738\"},{\"id\":\"1739\"},{\"id\":\"1740\"},{\"id\":\"1741\"},{\"id\":\"1742\"},{\"id\":\"1743\"},{\"id\":\"1744\"}]},\"id\":\"1746\",\"type\":\"Toolbar\"},{\"attributes\":{},\"id\":\"1738\",\"type\":\"ZoomInTool\"},{\"attributes\":{},\"id\":\"1768\",\"type\":\"BasicTickFormatter\"},{\"attributes\":{},\"id\":\"1772\",\"type\":\"AllLabels\"},{\"attributes\":{},\"id\":\"1742\",\"type\":\"RedoTool\"},{\"attributes\":{},\"id\":\"1773\",\"type\":\"UnionRenderers\"},{\"attributes\":{},\"id\":\"1741\",\"type\":\"UndoTool\"},{\"attributes\":{\"bottom\":{\"value\":0},\"fill_alpha\":{\"value\":0.5},\"fill_color\":{\"value\":\"#1f77b4\"},\"hatch_alpha\":{\"value\":0.5},\"left\":{\"field\":\"left\"},\"line_alpha\":{\"value\":0.5},\"line_color\":{\"value\":\"#1f77b4\"},\"right\":{\"field\":\"right\"},\"top\":{\"field\":\"top\"}},\"id\":\"1759\",\"type\":\"Quad\"},{\"attributes\":{},\"id\":\"1737\",\"type\":\"PanTool\"},{\"attributes\":{},\"id\":\"1774\",\"type\":\"Selection\"},{\"attributes\":{},\"id\":\"1723\",\"type\":\"LinearScale\"},{\"attributes\":{\"align\":\"center\",\"coordinates\":null,\"group\":null,\"text\":\"500ms.fcs\"},\"id\":\"1764\",\"type\":\"Title\"},{\"attributes\":{\"callback\":null},\"id\":\"1736\",\"type\":\"HoverTool\"},{\"attributes\":{\"source\":{\"id\":\"1758\"}},\"id\":\"1763\",\"type\":\"CDSView\"},{\"attributes\":{},\"id\":\"1735\",\"type\":\"CrosshairTool\"},{\"attributes\":{},\"id\":\"1725\",\"type\":\"LinearScale\"},{\"attributes\":{},\"id\":\"1769\",\"type\":\"AllLabels\"},{\"attributes\":{\"data\":{\"left\":{\"__ndarray__\":\"AAAAoK05BsC9hvLa4NIDwHkN5RUUbAHAbCivoY4K/r/lNZQX9Tz5v15DeY1bb/S/sKG8BoRD77+gvIbyUKjlvyivobw7Gti/QJTXUFaPs78gymsoIaXMP5TXUF57xOA/oLyGcq5f6j/YUF7DcP3xP2BDeU0Ky/Y/5DWU16OY+z82lNewHjMAQHoN5XXrmQJAvIbyOrgABUA=\",\"dtype\":\"float64\",\"order\":\"little\",\"shape\":[19]},\"right\":{\"__ndarray__\":\"vYby2uDSA8B5DeUVFGwBwGwor6GOCv6/5TWUF/U8+b9eQ3mNW2/0v7ChvAaEQ++/oLyG8lCo5b8or6G8OxrYv0CU11BWj7O/IMprKCGlzD+U11Bee8TgP6C8hnKuX+o/2FBew3D98T9gQ3lNCsv2P+Q1lNejmPs/NpTXsB4zAEB6DeV165kCQLyG8jq4AAVAAAAAAIVnB0A=\",\"dtype\":\"float64\",\"order\":\"little\",\"shape\":[19]},\"top\":[1,3,3,9,17,23,37,29,44,32,38,30,19,20,14,9,5,2,1]},\"selected\":{\"id\":\"1774\"},\"selection_policy\":{\"id\":\"1773\"}},\"id\":\"1758\",\"type\":\"ColumnDataSource\"},{\"attributes\":{\"children\":[[{\"id\":\"1718\"},0,0]]},\"id\":\"1777\",\"type\":\"GridBox\"},{\"attributes\":{},\"id\":\"1719\",\"type\":\"DataRange1d\"},{\"attributes\":{},\"id\":\"1743\",\"type\":\"ResetTool\"},{\"attributes\":{\"toolbar\":{\"id\":\"1778\"},\"toolbar_location\":\"above\"},\"id\":\"1779\",\"type\":\"ToolbarBox\"},{\"attributes\":{\"below\":[{\"id\":\"1727\"}],\"center\":[{\"id\":\"1730\"},{\"id\":\"1734\"}],\"height\":200,\"left\":[{\"id\":\"1731\"}],\"renderers\":[{\"id\":\"1762\"}],\"title\":{\"id\":\"1764\"},\"toolbar\":{\"id\":\"1746\"},\"toolbar_location\":null,\"width\":200,\"x_range\":{\"id\":\"1719\"},\"x_scale\":{\"id\":\"1723\"},\"y_range\":{\"id\":\"1721\"},\"y_scale\":{\"id\":\"1725\"}},\"id\":\"1718\",\"subtype\":\"Figure\",\"type\":\"Plot\"},{\"attributes\":{\"coordinates\":null,\"data_source\":{\"id\":\"1758\"},\"glyph\":{\"id\":\"1759\"},\"group\":null,\"hover_glyph\":null,\"muted_glyph\":{\"id\":\"1761\"},\"nonselection_glyph\":{\"id\":\"1760\"},\"view\":{\"id\":\"1763\"}},\"id\":\"1762\",\"type\":\"GlyphRenderer\"},{\"attributes\":{\"axis\":{\"id\":\"1731\"},\"coordinates\":null,\"dimension\":1,\"group\":null,\"ticker\":null},\"id\":\"1734\",\"type\":\"Grid\"},{\"attributes\":{\"toolbars\":[{\"id\":\"1746\"}],\"tools\":[{\"id\":\"1735\"},{\"id\":\"1736\"},{\"id\":\"1737\"},{\"id\":\"1738\"},{\"id\":\"1739\"},{\"id\":\"1740\"},{\"id\":\"1741\"},{\"id\":\"1742\"},{\"id\":\"1743\"},{\"id\":\"1744\"}]},\"id\":\"1778\",\"type\":\"ProxyToolbar\"},{\"attributes\":{\"axis\":{\"id\":\"1727\"},\"coordinates\":null,\"group\":null,\"ticker\":null},\"id\":\"1730\",\"type\":\"Grid\"},{\"attributes\":{\"axis_label\":\"Event Count\",\"coordinates\":null,\"formatter\":{\"id\":\"1768\"},\"group\":null,\"major_label_policy\":{\"id\":\"1769\"},\"ticker\":{\"id\":\"1732\"}},\"id\":\"1731\",\"type\":\"LinearAxis\"},{\"attributes\":{\"bottom\":{\"value\":0},\"fill_alpha\":{\"value\":0.1},\"fill_color\":{\"value\":\"#1f77b4\"},\"hatch_alpha\":{\"value\":0.1},\"left\":{\"field\":\"left\"},\"line_alpha\":{\"value\":0.1},\"line_color\":{\"value\":\"#1f77b4\"},\"right\":{\"field\":\"right\"},\"top\":{\"field\":\"top\"}},\"id\":\"1760\",\"type\":\"Quad\"},{\"attributes\":{},\"id\":\"1728\",\"type\":\"BasicTicker\"},{\"attributes\":{},\"id\":\"1732\",\"type\":\"BasicTicker\"},{\"attributes\":{\"overlay\":{\"id\":\"1745\"}},\"id\":\"1740\",\"type\":\"BoxZoomTool\"},{\"attributes\":{\"axis_label\":\"SSC-W\",\"coordinates\":null,\"formatter\":{\"id\":\"1771\"},\"group\":null,\"major_label_policy\":{\"id\":\"1772\"},\"ticker\":{\"id\":\"1728\"}},\"id\":\"1727\",\"type\":\"LinearAxis\"},{\"attributes\":{},\"id\":\"1744\",\"type\":\"SaveTool\"},{\"attributes\":{\"bottom\":{\"value\":0},\"fill_alpha\":{\"value\":0.2},\"fill_color\":{\"value\":\"#1f77b4\"},\"hatch_alpha\":{\"value\":0.2},\"left\":{\"field\":\"left\"},\"line_alpha\":{\"value\":0.2},\"line_color\":{\"value\":\"#1f77b4\"},\"right\":{\"field\":\"right\"},\"top\":{\"field\":\"top\"}},\"id\":\"1761\",\"type\":\"Quad\"}],\"root_ids\":[\"1780\"]},\"title\":\"Bokeh Application\",\"version\":\"2.4.3\"}};\n",
       "  const render_items = [{\"docid\":\"6afa8845-04a3-46de-b563-76f9d95d34a0\",\"root_ids\":[\"1780\"],\"roots\":{\"1780\":\"11b440f0-123a-48dc-9c82-34b94469afa2\"}}];\n",
       "  root.Bokeh.embed.embed_items_notebook(docs_json, render_items);\n",
       "  }\n",
       "  if (root.Bokeh !== undefined) {\n",
       "    embed_document(root);\n",
       "  } else {\n",
       "    let attempts = 0;\n",
       "    const timer = setInterval(function(root) {\n",
       "      if (root.Bokeh !== undefined) {\n",
       "        clearInterval(timer);\n",
       "        embed_document(root);\n",
       "      } else {\n",
       "        attempts++;\n",
       "        if (attempts > 100) {\n",
       "          clearInterval(timer);\n",
       "          console.log(\"Bokeh: ERROR: Unable to run BokehJS code because BokehJS library is missing\");\n",
       "        }\n",
       "      }\n",
       "    }, 10, root)\n",
       "  }\n",
       "})(window);"
      ],
      "application/vnd.bokehjs_exec.v0+json": ""
     },
     "metadata": {
      "application/vnd.bokehjs_exec.v0+json": {
       "id": "1780"
      }
     },
     "output_type": "display_data"
    },
    {
     "data": {
      "text/html": [
       "\n",
       "  <div class=\"bk-root\" id=\"e0c77525-f565-4fc3-ac16-e1da2b490865\" data-root-id=\"1953\"></div>\n"
      ]
     },
     "metadata": {},
     "output_type": "display_data"
    },
    {
     "data": {
      "application/javascript": [
       "(function(root) {\n",
       "  function embed_document(root) {\n",
       "  const docs_json = {\"a0905f06-5513-4cc3-8eca-1b83a742dd72\":{\"defs\":[],\"roots\":{\"references\":[{\"attributes\":{\"children\":[{\"id\":\"1952\"},{\"id\":\"1950\"}]},\"id\":\"1953\",\"type\":\"Column\"},{\"attributes\":{\"data\":{\"left\":{\"__ndarray__\":\"AAAAgCfsB8DyGsqLT70FwOU1lJd3jgPA2FBeo59fAcCU11Bej2H+v3kN5XXfA/q/XkN5jS+m9b9DeQ2lf0jxv1BeQ3mf1em/GMprqD8a4b/Iayivv73QvwCU11D+H4c/EOU1lL8v0j/AhvKaP9PhP/Qaymufjuo/lNdQnv+k8T+wobyGrwL2P8xrKG9fYPo/6DWUVw++/j8=\",\"dtype\":\"float64\",\"order\":\"little\",\"shape\":[19]},\"right\":{\"__ndarray__\":\"8hrKi0+9BcDlNZSXd44DwNhQXqOfXwHAlNdQXo9h/r95DeV13wP6v15DeY0vpvW/Q3kNpX9I8b9QXkN5n9XpvxjKa6g/GuG/yGsor7+90L8AlNdQ/h+HPxDlNZS/L9I/wIbymj/T4T/0Gsprn47qP5TXUJ7/pPE/sKG8hq8C9j/MayhvX2D6P+g1lFcPvv4/AAAAoN+NAUA=\",\"dtype\":\"float64\",\"order\":\"little\",\"shape\":[19]},\"top\":[1,2,3,9,9,16,14,19,17,31,34,46,30,35,22,22,16,7,3]},\"selected\":{\"id\":\"1947\"},\"selection_policy\":{\"id\":\"1946\"}},\"id\":\"1931\",\"type\":\"ColumnDataSource\"},{\"attributes\":{},\"id\":\"1892\",\"type\":\"DataRange1d\"},{\"attributes\":{\"bottom\":{\"value\":0},\"fill_alpha\":{\"value\":0.1},\"fill_color\":{\"value\":\"#1f77b4\"},\"hatch_alpha\":{\"value\":0.1},\"left\":{\"field\":\"left\"},\"line_alpha\":{\"value\":0.1},\"line_color\":{\"value\":\"#1f77b4\"},\"right\":{\"field\":\"right\"},\"top\":{\"field\":\"top\"}},\"id\":\"1933\",\"type\":\"Quad\"},{\"attributes\":{\"bottom\":{\"value\":0},\"fill_alpha\":{\"value\":0.5},\"fill_color\":{\"value\":\"#1f77b4\"},\"hatch_alpha\":{\"value\":0.5},\"left\":{\"field\":\"left\"},\"line_alpha\":{\"value\":0.5},\"line_color\":{\"value\":\"#1f77b4\"},\"right\":{\"field\":\"right\"},\"top\":{\"field\":\"top\"}},\"id\":\"1932\",\"type\":\"Quad\"},{\"attributes\":{\"axis_label\":\"SSC-H\",\"coordinates\":null,\"formatter\":{\"id\":\"1944\"},\"group\":null,\"major_label_policy\":{\"id\":\"1945\"},\"ticker\":{\"id\":\"1901\"}},\"id\":\"1900\",\"type\":\"LinearAxis\"},{\"attributes\":{\"source\":{\"id\":\"1931\"}},\"id\":\"1936\",\"type\":\"CDSView\"},{\"attributes\":{},\"id\":\"1942\",\"type\":\"AllLabels\"},{\"attributes\":{},\"id\":\"1896\",\"type\":\"LinearScale\"},{\"attributes\":{\"axis_label\":\"Event Count\",\"coordinates\":null,\"formatter\":{\"id\":\"1941\"},\"group\":null,\"major_label_policy\":{\"id\":\"1942\"},\"ticker\":{\"id\":\"1905\"}},\"id\":\"1904\",\"type\":\"LinearAxis\"},{\"attributes\":{\"axis\":{\"id\":\"1904\"},\"coordinates\":null,\"dimension\":1,\"group\":null,\"ticker\":null},\"id\":\"1907\",\"type\":\"Grid\"},{\"attributes\":{\"children\":[[{\"id\":\"1891\"},0,0]]},\"id\":\"1950\",\"type\":\"GridBox\"},{\"attributes\":{\"align\":\"center\",\"coordinates\":null,\"group\":null,\"text\":\"500ms.fcs\"},\"id\":\"1937\",\"type\":\"Title\"},{\"attributes\":{\"bottom\":{\"value\":0},\"fill_alpha\":{\"value\":0.2},\"fill_color\":{\"value\":\"#1f77b4\"},\"hatch_alpha\":{\"value\":0.2},\"left\":{\"field\":\"left\"},\"line_alpha\":{\"value\":0.2},\"line_color\":{\"value\":\"#1f77b4\"},\"right\":{\"field\":\"right\"},\"top\":{\"field\":\"top\"}},\"id\":\"1934\",\"type\":\"Quad\"},{\"attributes\":{\"axis\":{\"id\":\"1900\"},\"coordinates\":null,\"group\":null,\"ticker\":null},\"id\":\"1903\",\"type\":\"Grid\"},{\"attributes\":{},\"id\":\"1901\",\"type\":\"BasicTicker\"},{\"attributes\":{},\"id\":\"1912\",\"type\":\"ZoomOutTool\"},{\"attributes\":{},\"id\":\"1916\",\"type\":\"ResetTool\"},{\"attributes\":{},\"id\":\"1905\",\"type\":\"BasicTicker\"},{\"attributes\":{},\"id\":\"1941\",\"type\":\"BasicTickFormatter\"},{\"attributes\":{\"toolbar\":{\"id\":\"1951\"},\"toolbar_location\":\"above\"},\"id\":\"1952\",\"type\":\"ToolbarBox\"},{\"attributes\":{\"toolbars\":[{\"id\":\"1919\"}],\"tools\":[{\"id\":\"1908\"},{\"id\":\"1909\"},{\"id\":\"1910\"},{\"id\":\"1911\"},{\"id\":\"1912\"},{\"id\":\"1913\"},{\"id\":\"1914\"},{\"id\":\"1915\"},{\"id\":\"1916\"},{\"id\":\"1917\"}]},\"id\":\"1951\",\"type\":\"ProxyToolbar\"},{\"attributes\":{},\"id\":\"1917\",\"type\":\"SaveTool\"},{\"attributes\":{\"callback\":null},\"id\":\"1909\",\"type\":\"HoverTool\"},{\"attributes\":{},\"id\":\"1944\",\"type\":\"BasicTickFormatter\"},{\"attributes\":{\"overlay\":{\"id\":\"1918\"}},\"id\":\"1913\",\"type\":\"BoxZoomTool\"},{\"attributes\":{},\"id\":\"1910\",\"type\":\"PanTool\"},{\"attributes\":{},\"id\":\"1915\",\"type\":\"RedoTool\"},{\"attributes\":{\"coordinates\":null,\"data_source\":{\"id\":\"1931\"},\"glyph\":{\"id\":\"1932\"},\"group\":null,\"hover_glyph\":null,\"muted_glyph\":{\"id\":\"1934\"},\"nonselection_glyph\":{\"id\":\"1933\"},\"view\":{\"id\":\"1936\"}},\"id\":\"1935\",\"type\":\"GlyphRenderer\"},{\"attributes\":{},\"id\":\"1945\",\"type\":\"AllLabels\"},{\"attributes\":{\"tools\":[{\"id\":\"1908\"},{\"id\":\"1909\"},{\"id\":\"1910\"},{\"id\":\"1911\"},{\"id\":\"1912\"},{\"id\":\"1913\"},{\"id\":\"1914\"},{\"id\":\"1915\"},{\"id\":\"1916\"},{\"id\":\"1917\"}]},\"id\":\"1919\",\"type\":\"Toolbar\"},{\"attributes\":{},\"id\":\"1908\",\"type\":\"CrosshairTool\"},{\"attributes\":{},\"id\":\"1946\",\"type\":\"UnionRenderers\"},{\"attributes\":{},\"id\":\"1911\",\"type\":\"ZoomInTool\"},{\"attributes\":{},\"id\":\"1914\",\"type\":\"UndoTool\"},{\"attributes\":{},\"id\":\"1947\",\"type\":\"Selection\"},{\"attributes\":{\"below\":[{\"id\":\"1900\"}],\"center\":[{\"id\":\"1903\"},{\"id\":\"1907\"}],\"height\":200,\"left\":[{\"id\":\"1904\"}],\"renderers\":[{\"id\":\"1935\"}],\"title\":{\"id\":\"1937\"},\"toolbar\":{\"id\":\"1919\"},\"toolbar_location\":null,\"width\":200,\"x_range\":{\"id\":\"1892\"},\"x_scale\":{\"id\":\"1896\"},\"y_range\":{\"id\":\"1894\"},\"y_scale\":{\"id\":\"1898\"}},\"id\":\"1891\",\"subtype\":\"Figure\",\"type\":\"Plot\"},{\"attributes\":{\"start\":0},\"id\":\"1894\",\"type\":\"DataRange1d\"},{\"attributes\":{},\"id\":\"1898\",\"type\":\"LinearScale\"},{\"attributes\":{\"bottom_units\":\"screen\",\"coordinates\":null,\"fill_alpha\":0.5,\"fill_color\":\"lightgrey\",\"group\":null,\"left_units\":\"screen\",\"level\":\"overlay\",\"line_alpha\":1.0,\"line_color\":\"black\",\"line_dash\":[4,4],\"line_width\":2,\"right_units\":\"screen\",\"syncable\":false,\"top_units\":\"screen\"},\"id\":\"1918\",\"type\":\"BoxAnnotation\"}],\"root_ids\":[\"1953\"]},\"title\":\"Bokeh Application\",\"version\":\"2.4.3\"}};\n",
       "  const render_items = [{\"docid\":\"a0905f06-5513-4cc3-8eca-1b83a742dd72\",\"root_ids\":[\"1953\"],\"roots\":{\"1953\":\"e0c77525-f565-4fc3-ac16-e1da2b490865\"}}];\n",
       "  root.Bokeh.embed.embed_items_notebook(docs_json, render_items);\n",
       "  }\n",
       "  if (root.Bokeh !== undefined) {\n",
       "    embed_document(root);\n",
       "  } else {\n",
       "    let attempts = 0;\n",
       "    const timer = setInterval(function(root) {\n",
       "      if (root.Bokeh !== undefined) {\n",
       "        clearInterval(timer);\n",
       "        embed_document(root);\n",
       "      } else {\n",
       "        attempts++;\n",
       "        if (attempts > 100) {\n",
       "          clearInterval(timer);\n",
       "          console.log(\"Bokeh: ERROR: Unable to run BokehJS code because BokehJS library is missing\");\n",
       "        }\n",
       "      }\n",
       "    }, 10, root)\n",
       "  }\n",
       "})(window);"
      ],
      "application/vnd.bokehjs_exec.v0+json": ""
     },
     "metadata": {
      "application/vnd.bokehjs_exec.v0+json": {
       "id": "1953"
      }
     },
     "output_type": "display_data"
    },
    {
     "data": {
      "text/html": [
       "\n",
       "  <div class=\"bk-root\" id=\"279d71b0-2df1-4b03-8668-a39aaa9edddf\" data-root-id=\"2136\"></div>\n"
      ]
     },
     "metadata": {},
     "output_type": "display_data"
    },
    {
     "data": {
      "application/javascript": [
       "(function(root) {\n",
       "  function embed_document(root) {\n",
       "  const docs_json = {\"6a260bed-c180-4c92-8e4a-20475d9c0ca3\":{\"defs\":[],\"roots\":{\"references\":[{\"attributes\":{\"children\":[{\"id\":\"2135\"},{\"id\":\"2133\"}]},\"id\":\"2136\",\"type\":\"Column\"},{\"attributes\":{\"toolbar\":{\"id\":\"2134\"},\"toolbar_location\":\"above\"},\"id\":\"2135\",\"type\":\"ToolbarBox\"},{\"attributes\":{\"toolbars\":[{\"id\":\"2102\"}],\"tools\":[{\"id\":\"2091\"},{\"id\":\"2092\"},{\"id\":\"2093\"},{\"id\":\"2094\"},{\"id\":\"2095\"},{\"id\":\"2096\"},{\"id\":\"2097\"},{\"id\":\"2098\"},{\"id\":\"2099\"},{\"id\":\"2100\"}]},\"id\":\"2134\",\"type\":\"ProxyToolbar\"},{\"attributes\":{},\"id\":\"2091\",\"type\":\"CrosshairTool\"},{\"attributes\":{},\"id\":\"2129\",\"type\":\"UnionRenderers\"},{\"attributes\":{\"coordinates\":null,\"data_source\":{\"id\":\"2114\"},\"glyph\":{\"id\":\"2115\"},\"group\":null,\"hover_glyph\":null,\"muted_glyph\":{\"id\":\"2117\"},\"nonselection_glyph\":{\"id\":\"2116\"},\"view\":{\"id\":\"2119\"}},\"id\":\"2118\",\"type\":\"GlyphRenderer\"},{\"attributes\":{},\"id\":\"2125\",\"type\":\"AllLabels\"},{\"attributes\":{\"callback\":null},\"id\":\"2092\",\"type\":\"HoverTool\"},{\"attributes\":{},\"id\":\"2093\",\"type\":\"PanTool\"},{\"attributes\":{},\"id\":\"2128\",\"type\":\"AllLabels\"},{\"attributes\":{},\"id\":\"2097\",\"type\":\"UndoTool\"},{\"attributes\":{\"start\":0},\"id\":\"2077\",\"type\":\"DataRange1d\"},{\"attributes\":{\"source\":{\"id\":\"2114\"}},\"id\":\"2119\",\"type\":\"CDSView\"},{\"attributes\":{},\"id\":\"2094\",\"type\":\"ZoomInTool\"},{\"attributes\":{\"bottom\":{\"value\":0},\"fill_alpha\":{\"value\":0.5},\"fill_color\":{\"value\":\"#1f77b4\"},\"hatch_alpha\":{\"value\":0.5},\"left\":{\"field\":\"left\"},\"line_alpha\":{\"value\":0.5},\"line_color\":{\"value\":\"#1f77b4\"},\"right\":{\"field\":\"right\"},\"top\":{\"field\":\"top\"}},\"id\":\"2115\",\"type\":\"Quad\"},{\"attributes\":{},\"id\":\"2124\",\"type\":\"BasicTickFormatter\"},{\"attributes\":{},\"id\":\"2095\",\"type\":\"ZoomOutTool\"},{\"attributes\":{\"axis\":{\"id\":\"2083\"},\"coordinates\":null,\"group\":null,\"ticker\":null},\"id\":\"2086\",\"type\":\"Grid\"},{\"attributes\":{},\"id\":\"2130\",\"type\":\"Selection\"},{\"attributes\":{},\"id\":\"2075\",\"type\":\"DataRange1d\"},{\"attributes\":{},\"id\":\"2100\",\"type\":\"SaveTool\"},{\"attributes\":{},\"id\":\"2079\",\"type\":\"LinearScale\"},{\"attributes\":{\"overlay\":{\"id\":\"2101\"}},\"id\":\"2096\",\"type\":\"BoxZoomTool\"},{\"attributes\":{\"children\":[[{\"id\":\"2074\"},0,0]]},\"id\":\"2133\",\"type\":\"GridBox\"},{\"attributes\":{},\"id\":\"2098\",\"type\":\"RedoTool\"},{\"attributes\":{\"axis_label\":\"Event Count\",\"coordinates\":null,\"formatter\":{\"id\":\"2124\"},\"group\":null,\"major_label_policy\":{\"id\":\"2125\"},\"ticker\":{\"id\":\"2088\"}},\"id\":\"2087\",\"type\":\"LinearAxis\"},{\"attributes\":{\"align\":\"center\",\"coordinates\":null,\"group\":null,\"text\":\"500ms.fcs\"},\"id\":\"2120\",\"type\":\"Title\"},{\"attributes\":{},\"id\":\"2088\",\"type\":\"BasicTicker\"},{\"attributes\":{},\"id\":\"2099\",\"type\":\"ResetTool\"},{\"attributes\":{\"axis\":{\"id\":\"2087\"},\"coordinates\":null,\"dimension\":1,\"group\":null,\"ticker\":null},\"id\":\"2090\",\"type\":\"Grid\"},{\"attributes\":{\"bottom\":{\"value\":0},\"fill_alpha\":{\"value\":0.1},\"fill_color\":{\"value\":\"#1f77b4\"},\"hatch_alpha\":{\"value\":0.1},\"left\":{\"field\":\"left\"},\"line_alpha\":{\"value\":0.1},\"line_color\":{\"value\":\"#1f77b4\"},\"right\":{\"field\":\"right\"},\"top\":{\"field\":\"top\"}},\"id\":\"2116\",\"type\":\"Quad\"},{\"attributes\":{\"data\":{\"left\":{\"__ndarray__\":\"AAAA4HtY7r9DeQ2lmHTnv4byGmq1kOC/lNdQXqRZ079oKK+hd0e2v8CG8hrRa8A/2FBeA6/91T8qr6G8uuLhP+Y1lPedxug/oryGMoGq7z+wobw2MkfzPw7lNdQjufY/bCivcRUr+j/KaygPB539P5XXUFZ8hwBARHkNJXVAAkDzGsrzbfkDQKK8hsJmsgVAUV5DkV9rB0A=\",\"dtype\":\"float64\",\"order\":\"little\",\"shape\":[19]},\"right\":{\"__ndarray__\":\"Q3kNpZh057+G8hpqtZDgv5TXUF6kWdO/aCivoXdHtr/AhvIa0WvAP9hQXgOv/dU/Kq+hvLri4T/mNZT3ncboP6K8hjKBqu8/sKG8NjJH8z8O5TXUI7n2P2wor3EVK/o/ymsoDwed/T+V11BWfIcAQER5DSV1QAJA8xrK8235A0CivIbCZrIFQFFeQ5FfawdAAAAAYFgkCUA=\",\"dtype\":\"float64\",\"order\":\"little\",\"shape\":[19]},\"top\":[134,44,7,9,14,27,9,17,9,14,8,13,8,8,4,5,2,2,2]},\"selected\":{\"id\":\"2130\"},\"selection_policy\":{\"id\":\"2129\"}},\"id\":\"2114\",\"type\":\"ColumnDataSource\"},{\"attributes\":{\"tools\":[{\"id\":\"2091\"},{\"id\":\"2092\"},{\"id\":\"2093\"},{\"id\":\"2094\"},{\"id\":\"2095\"},{\"id\":\"2096\"},{\"id\":\"2097\"},{\"id\":\"2098\"},{\"id\":\"2099\"},{\"id\":\"2100\"}]},\"id\":\"2102\",\"type\":\"Toolbar\"},{\"attributes\":{\"bottom\":{\"value\":0},\"fill_alpha\":{\"value\":0.2},\"fill_color\":{\"value\":\"#1f77b4\"},\"hatch_alpha\":{\"value\":0.2},\"left\":{\"field\":\"left\"},\"line_alpha\":{\"value\":0.2},\"line_color\":{\"value\":\"#1f77b4\"},\"right\":{\"field\":\"right\"},\"top\":{\"field\":\"top\"}},\"id\":\"2117\",\"type\":\"Quad\"},{\"attributes\":{\"bottom_units\":\"screen\",\"coordinates\":null,\"fill_alpha\":0.5,\"fill_color\":\"lightgrey\",\"group\":null,\"left_units\":\"screen\",\"level\":\"overlay\",\"line_alpha\":1.0,\"line_color\":\"black\",\"line_dash\":[4,4],\"line_width\":2,\"right_units\":\"screen\",\"syncable\":false,\"top_units\":\"screen\"},\"id\":\"2101\",\"type\":\"BoxAnnotation\"},{\"attributes\":{},\"id\":\"2084\",\"type\":\"BasicTicker\"},{\"attributes\":{\"axis_label\":\"PE-A\",\"coordinates\":null,\"formatter\":{\"id\":\"2127\"},\"group\":null,\"major_label_policy\":{\"id\":\"2128\"},\"ticker\":{\"id\":\"2084\"}},\"id\":\"2083\",\"type\":\"LinearAxis\"},{\"attributes\":{},\"id\":\"2081\",\"type\":\"LinearScale\"},{\"attributes\":{},\"id\":\"2127\",\"type\":\"BasicTickFormatter\"},{\"attributes\":{\"below\":[{\"id\":\"2083\"}],\"center\":[{\"id\":\"2086\"},{\"id\":\"2090\"}],\"height\":200,\"left\":[{\"id\":\"2087\"}],\"renderers\":[{\"id\":\"2118\"}],\"title\":{\"id\":\"2120\"},\"toolbar\":{\"id\":\"2102\"},\"toolbar_location\":null,\"width\":200,\"x_range\":{\"id\":\"2075\"},\"x_scale\":{\"id\":\"2079\"},\"y_range\":{\"id\":\"2077\"},\"y_scale\":{\"id\":\"2081\"}},\"id\":\"2074\",\"subtype\":\"Figure\",\"type\":\"Plot\"}],\"root_ids\":[\"2136\"]},\"title\":\"Bokeh Application\",\"version\":\"2.4.3\"}};\n",
       "  const render_items = [{\"docid\":\"6a260bed-c180-4c92-8e4a-20475d9c0ca3\",\"root_ids\":[\"2136\"],\"roots\":{\"2136\":\"279d71b0-2df1-4b03-8668-a39aaa9edddf\"}}];\n",
       "  root.Bokeh.embed.embed_items_notebook(docs_json, render_items);\n",
       "  }\n",
       "  if (root.Bokeh !== undefined) {\n",
       "    embed_document(root);\n",
       "  } else {\n",
       "    let attempts = 0;\n",
       "    const timer = setInterval(function(root) {\n",
       "      if (root.Bokeh !== undefined) {\n",
       "        clearInterval(timer);\n",
       "        embed_document(root);\n",
       "      } else {\n",
       "        attempts++;\n",
       "        if (attempts > 100) {\n",
       "          clearInterval(timer);\n",
       "          console.log(\"Bokeh: ERROR: Unable to run BokehJS code because BokehJS library is missing\");\n",
       "        }\n",
       "      }\n",
       "    }, 10, root)\n",
       "  }\n",
       "})(window);"
      ],
      "application/vnd.bokehjs_exec.v0+json": ""
     },
     "metadata": {
      "application/vnd.bokehjs_exec.v0+json": {
       "id": "2136"
      }
     },
     "output_type": "display_data"
    },
    {
     "data": {
      "text/html": [
       "\n",
       "  <div class=\"bk-root\" id=\"43a99e4f-8a1c-43c1-8cd1-fdd4cec31a89\" data-root-id=\"2329\"></div>\n"
      ]
     },
     "metadata": {},
     "output_type": "display_data"
    },
    {
     "data": {
      "application/javascript": [
       "(function(root) {\n",
       "  function embed_document(root) {\n",
       "  const docs_json = {\"8ebb9059-9b40-400c-9929-905b7ecf227e\":{\"defs\":[],\"roots\":{\"references\":[{\"attributes\":{\"children\":[{\"id\":\"2328\"},{\"id\":\"2326\"}]},\"id\":\"2329\",\"type\":\"Column\"},{\"attributes\":{\"overlay\":{\"id\":\"2294\"}},\"id\":\"2289\",\"type\":\"BoxZoomTool\"},{\"attributes\":{},\"id\":\"2281\",\"type\":\"BasicTicker\"},{\"attributes\":{},\"id\":\"2322\",\"type\":\"UnionRenderers\"},{\"attributes\":{},\"id\":\"2291\",\"type\":\"RedoTool\"},{\"attributes\":{\"axis\":{\"id\":\"2276\"},\"coordinates\":null,\"group\":null,\"ticker\":null},\"id\":\"2279\",\"type\":\"Grid\"},{\"attributes\":{},\"id\":\"2323\",\"type\":\"Selection\"},{\"attributes\":{},\"id\":\"2292\",\"type\":\"ResetTool\"},{\"attributes\":{\"axis\":{\"id\":\"2280\"},\"coordinates\":null,\"dimension\":1,\"group\":null,\"ticker\":null},\"id\":\"2283\",\"type\":\"Grid\"},{\"attributes\":{\"axis_label\":\"Event Count\",\"coordinates\":null,\"formatter\":{\"id\":\"2317\"},\"group\":null,\"major_label_policy\":{\"id\":\"2318\"},\"ticker\":{\"id\":\"2281\"}},\"id\":\"2280\",\"type\":\"LinearAxis\"},{\"attributes\":{\"tools\":[{\"id\":\"2284\"},{\"id\":\"2285\"},{\"id\":\"2286\"},{\"id\":\"2287\"},{\"id\":\"2288\"},{\"id\":\"2289\"},{\"id\":\"2290\"},{\"id\":\"2291\"},{\"id\":\"2292\"},{\"id\":\"2293\"}]},\"id\":\"2295\",\"type\":\"Toolbar\"},{\"attributes\":{\"bottom_units\":\"screen\",\"coordinates\":null,\"fill_alpha\":0.5,\"fill_color\":\"lightgrey\",\"group\":null,\"left_units\":\"screen\",\"level\":\"overlay\",\"line_alpha\":1.0,\"line_color\":\"black\",\"line_dash\":[4,4],\"line_width\":2,\"right_units\":\"screen\",\"syncable\":false,\"top_units\":\"screen\"},\"id\":\"2294\",\"type\":\"BoxAnnotation\"},{\"attributes\":{\"bottom\":{\"value\":0},\"fill_alpha\":{\"value\":0.5},\"fill_color\":{\"value\":\"#1f77b4\"},\"hatch_alpha\":{\"value\":0.5},\"left\":{\"field\":\"left\"},\"line_alpha\":{\"value\":0.5},\"line_color\":{\"value\":\"#1f77b4\"},\"right\":{\"field\":\"right\"},\"top\":{\"field\":\"top\"}},\"id\":\"2308\",\"type\":\"Quad\"},{\"attributes\":{},\"id\":\"2268\",\"type\":\"DataRange1d\"},{\"attributes\":{\"align\":\"center\",\"coordinates\":null,\"group\":null,\"text\":\"500ms.fcs\"},\"id\":\"2313\",\"type\":\"Title\"},{\"attributes\":{\"toolbar\":{\"id\":\"2327\"},\"toolbar_location\":\"above\"},\"id\":\"2328\",\"type\":\"ToolbarBox\"},{\"attributes\":{},\"id\":\"2320\",\"type\":\"BasicTickFormatter\"},{\"attributes\":{\"bottom\":{\"value\":0},\"fill_alpha\":{\"value\":0.1},\"fill_color\":{\"value\":\"#1f77b4\"},\"hatch_alpha\":{\"value\":0.1},\"left\":{\"field\":\"left\"},\"line_alpha\":{\"value\":0.1},\"line_color\":{\"value\":\"#1f77b4\"},\"right\":{\"field\":\"right\"},\"top\":{\"field\":\"top\"}},\"id\":\"2309\",\"type\":\"Quad\"},{\"attributes\":{\"bottom\":{\"value\":0},\"fill_alpha\":{\"value\":0.2},\"fill_color\":{\"value\":\"#1f77b4\"},\"hatch_alpha\":{\"value\":0.2},\"left\":{\"field\":\"left\"},\"line_alpha\":{\"value\":0.2},\"line_color\":{\"value\":\"#1f77b4\"},\"right\":{\"field\":\"right\"},\"top\":{\"field\":\"top\"}},\"id\":\"2310\",\"type\":\"Quad\"},{\"attributes\":{\"children\":[[{\"id\":\"2267\"},0,0]]},\"id\":\"2326\",\"type\":\"GridBox\"},{\"attributes\":{},\"id\":\"2274\",\"type\":\"LinearScale\"},{\"attributes\":{\"data\":{\"left\":{\"__ndarray__\":\"AAAAADoW+L/YUF7Dygn1v6+hvIZb/fG/DuU1lNjh7b+9hvIa+sjnv2wor6EbsOG/OJTXUHou178or6G8evnFv8BQXkP5T5M/WEN5DXnNyj9QXkN5eZjZP3gN5TUb5eI/yGsor/n96D8Yymso2BbvPzaU11Dbl/I/XkN5jUqk9T+G8hrKubD4P66hvAYpvfs/1lBeQ5jJ/j8=\",\"dtype\":\"float64\",\"order\":\"little\",\"shape\":[19]},\"right\":{\"__ndarray__\":\"2FBew8oJ9b+vobyGW/3xvw7lNZTY4e2/vYbyGvrI579sKK+hG7DhvziU11B6Lte/KK+hvHr5xb/AUF5D+U+TP1hDeQ15zco/UF5DeXmY2T94DeU1G+XiP8hrKK/5/eg/GMprKNgW7z82lNdQ25fyP15DeY1KpPU/hvIayrmw+D+uobwGKb37P9ZQXkOYyf4/AAAAwAPrAEA=\",\"dtype\":\"float64\",\"order\":\"little\",\"shape\":[19]},\"top\":[60,35,1,0,0,12,27,22,29,27,14,28,15,20,19,7,9,7,4]},\"selected\":{\"id\":\"2323\"},\"selection_policy\":{\"id\":\"2322\"}},\"id\":\"2307\",\"type\":\"ColumnDataSource\"},{\"attributes\":{\"below\":[{\"id\":\"2276\"}],\"center\":[{\"id\":\"2279\"},{\"id\":\"2283\"}],\"height\":200,\"left\":[{\"id\":\"2280\"}],\"renderers\":[{\"id\":\"2311\"}],\"title\":{\"id\":\"2313\"},\"toolbar\":{\"id\":\"2295\"},\"toolbar_location\":null,\"width\":200,\"x_range\":{\"id\":\"2268\"},\"x_scale\":{\"id\":\"2272\"},\"y_range\":{\"id\":\"2270\"},\"y_scale\":{\"id\":\"2274\"}},\"id\":\"2267\",\"subtype\":\"Figure\",\"type\":\"Plot\"},{\"attributes\":{\"source\":{\"id\":\"2307\"}},\"id\":\"2312\",\"type\":\"CDSView\"},{\"attributes\":{},\"id\":\"2284\",\"type\":\"CrosshairTool\"},{\"attributes\":{},\"id\":\"2318\",\"type\":\"AllLabels\"},{\"attributes\":{\"toolbars\":[{\"id\":\"2295\"}],\"tools\":[{\"id\":\"2284\"},{\"id\":\"2285\"},{\"id\":\"2286\"},{\"id\":\"2287\"},{\"id\":\"2288\"},{\"id\":\"2289\"},{\"id\":\"2290\"},{\"id\":\"2291\"},{\"id\":\"2292\"},{\"id\":\"2293\"}]},\"id\":\"2327\",\"type\":\"ProxyToolbar\"},{\"attributes\":{},\"id\":\"2277\",\"type\":\"BasicTicker\"},{\"attributes\":{\"callback\":null},\"id\":\"2285\",\"type\":\"HoverTool\"},{\"attributes\":{\"axis_label\":\"APC-Cy7-A\",\"coordinates\":null,\"formatter\":{\"id\":\"2320\"},\"group\":null,\"major_label_policy\":{\"id\":\"2321\"},\"ticker\":{\"id\":\"2277\"}},\"id\":\"2276\",\"type\":\"LinearAxis\"},{\"attributes\":{},\"id\":\"2286\",\"type\":\"PanTool\"},{\"attributes\":{},\"id\":\"2290\",\"type\":\"UndoTool\"},{\"attributes\":{\"coordinates\":null,\"data_source\":{\"id\":\"2307\"},\"glyph\":{\"id\":\"2308\"},\"group\":null,\"hover_glyph\":null,\"muted_glyph\":{\"id\":\"2310\"},\"nonselection_glyph\":{\"id\":\"2309\"},\"view\":{\"id\":\"2312\"}},\"id\":\"2311\",\"type\":\"GlyphRenderer\"},{\"attributes\":{},\"id\":\"2321\",\"type\":\"AllLabels\"},{\"attributes\":{},\"id\":\"2287\",\"type\":\"ZoomInTool\"},{\"attributes\":{},\"id\":\"2288\",\"type\":\"ZoomOutTool\"},{\"attributes\":{\"start\":0},\"id\":\"2270\",\"type\":\"DataRange1d\"},{\"attributes\":{},\"id\":\"2317\",\"type\":\"BasicTickFormatter\"},{\"attributes\":{},\"id\":\"2293\",\"type\":\"SaveTool\"},{\"attributes\":{},\"id\":\"2272\",\"type\":\"LinearScale\"}],\"root_ids\":[\"2329\"]},\"title\":\"Bokeh Application\",\"version\":\"2.4.3\"}};\n",
       "  const render_items = [{\"docid\":\"8ebb9059-9b40-400c-9929-905b7ecf227e\",\"root_ids\":[\"2329\"],\"roots\":{\"2329\":\"43a99e4f-8a1c-43c1-8cd1-fdd4cec31a89\"}}];\n",
       "  root.Bokeh.embed.embed_items_notebook(docs_json, render_items);\n",
       "  }\n",
       "  if (root.Bokeh !== undefined) {\n",
       "    embed_document(root);\n",
       "  } else {\n",
       "    let attempts = 0;\n",
       "    const timer = setInterval(function(root) {\n",
       "      if (root.Bokeh !== undefined) {\n",
       "        clearInterval(timer);\n",
       "        embed_document(root);\n",
       "      } else {\n",
       "        attempts++;\n",
       "        if (attempts > 100) {\n",
       "          clearInterval(timer);\n",
       "          console.log(\"Bokeh: ERROR: Unable to run BokehJS code because BokehJS library is missing\");\n",
       "        }\n",
       "      }\n",
       "    }, 10, root)\n",
       "  }\n",
       "})(window);"
      ],
      "application/vnd.bokehjs_exec.v0+json": ""
     },
     "metadata": {
      "application/vnd.bokehjs_exec.v0+json": {
       "id": "2329"
      }
     },
     "output_type": "display_data"
    }
   ],
   "source": [
    "# histograms of parameters\n",
    "for c in s.channels['pnn']:\n",
    "    ps = []\n",
    "    for s in session.get_group_samples('default'):\n",
    "        ps.append(s.plot_histogram(channel_label_or_number=c, source='raw'))\n",
    "    grid = gridplot(ps, ncols=8, width=200, height=200)\n",
    "    show(grid)"
   ]
  },
  {
   "cell_type": "code",
   "execution_count": 11,
   "id": "87f3922c-b579-4f41-a348-1da294b70e23",
   "metadata": {},
   "outputs": [
    {
     "data": {
      "text/plain": [
       "0         Time\n",
       "1        FSC-A\n",
       "2        FSC-W\n",
       "3        FSC-H\n",
       "4        SSC-A\n",
       "5        SSC-W\n",
       "6        SSC-H\n",
       "7         PE-A\n",
       "8    APC-Cy7-A\n",
       "Name: pnn, dtype: object"
      ]
     },
     "execution_count": 11,
     "metadata": {},
     "output_type": "execute_result"
    }
   ],
   "source": [
    "s.channels['pnn']"
   ]
  },
  {
   "cell_type": "code",
   "execution_count": 12,
   "id": "e1c7484c-e69f-4c09-b81d-7d276357b2db",
   "metadata": {},
   "outputs": [],
   "source": [
    "# gating\n",
    "dim_a = fk.Dimension('APC-Cy7-A', range_min=-0.5, range_max=4) # CD34+\n",
    "dim_b = fk.Dimension('APC-Cy7-A', range_min=-4, range_max=-1) # CD34-\n",
    "dim_c = fk.Dimension('PE-A', range_min=None, range_max=None) # all CD38\n",
    "dim_d = fk.Dimension('PE-A', range_min=None, range_max=-0.5) # CD38-\n",
    "dim_e = fk.Dimension('PE-A', range_min=-0.3, range_max=None) # CD38+\n",
    "\n",
    "blasts = fk.gates.RectangleGate('BLAST', parent_gate_name=None, dimensions=[dim_b, dim_c])\n",
    "lsc = fk.gates.RectangleGate('LSC', parent_gate_name=None, dimensions=[dim_a, dim_d])\n",
    "prog = fk.gates.RectangleGate('PROG', parent_gate_name=None, dimensions=[dim_a, dim_e])"
   ]
  },
  {
   "cell_type": "code",
   "execution_count": 13,
   "id": "8eea82ec-b0a3-4350-aef3-35e6c5e72f79",
   "metadata": {},
   "outputs": [],
   "source": [
    "session.add_gate(blasts)\n",
    "session.add_gate(lsc)\n",
    "session.add_gate(prog)\n",
    "session.analyze_samples()"
   ]
  },
  {
   "cell_type": "code",
   "execution_count": 14,
   "id": "374a9581-d40c-40f2-948b-30a7f56e935d",
   "metadata": {},
   "outputs": [
    {
     "data": {
      "text/html": [
       "\n",
       "  <div class=\"bk-root\" id=\"33acf213-e14e-4ae8-92ea-9b767f52fffd\" data-root-id=\"2661\"></div>\n"
      ]
     },
     "metadata": {},
     "output_type": "display_data"
    },
    {
     "data": {
      "application/javascript": [
       "(function(root) {\n",
       "  function embed_document(root) {\n",
       "  const docs_json = {\"64f40a9b-3eb6-4059-837f-3ec18b655704\":{\"defs\":[],\"roots\":{\"references\":[{\"attributes\":{\"children\":[{\"id\":\"2660\"},{\"id\":\"2658\"}]},\"id\":\"2661\",\"type\":\"Column\"},{\"attributes\":{},\"id\":\"2585\",\"type\":\"BasicTicker\"},{\"attributes\":{\"axis_label\":\"CD34 (APC-Cy7-A)\",\"coordinates\":null,\"formatter\":{\"id\":\"2628\"},\"group\":null,\"major_label_policy\":{\"id\":\"2629\"},\"ticker\":{\"id\":\"2480\"}},\"id\":\"2479\",\"type\":\"LinearAxis\"},{\"attributes\":{\"axis\":{\"id\":\"2580\"},\"coordinates\":null,\"group\":null,\"ticker\":null},\"id\":\"2583\",\"type\":\"Grid\"},{\"attributes\":{},\"id\":\"2484\",\"type\":\"BasicTicker\"},{\"attributes\":{\"coordinates\":null,\"group\":null,\"line_color\":\"#1F77B4\",\"line_width\":3,\"location\":-0.3},\"id\":\"2618\",\"type\":\"Span\"},{\"attributes\":{},\"id\":\"2480\",\"type\":\"BasicTicker\"},{\"attributes\":{\"axis\":{\"id\":\"2584\"},\"coordinates\":null,\"dimension\":1,\"group\":null,\"ticker\":null},\"id\":\"2587\",\"type\":\"Grid\"},{\"attributes\":{\"axis\":{\"id\":\"2479\"},\"coordinates\":null,\"group\":null,\"ticker\":null},\"id\":\"2482\",\"type\":\"Grid\"},{\"attributes\":{\"axis_label\":\"CD38 (PE-A)\",\"coordinates\":null,\"formatter\":{\"id\":\"2649\"},\"group\":null,\"major_label_policy\":{\"id\":\"2650\"},\"ticker\":{\"id\":\"2585\"}},\"id\":\"2584\",\"type\":\"LinearAxis\"},{\"attributes\":{\"axis\":{\"id\":\"2483\"},\"coordinates\":null,\"dimension\":1,\"group\":null,\"ticker\":null},\"id\":\"2486\",\"type\":\"Grid\"},{\"attributes\":{},\"id\":\"2626\",\"type\":\"AllLabels\"},{\"attributes\":{\"axis_label\":\"CD38 (PE-A)\",\"coordinates\":null,\"formatter\":{\"id\":\"2625\"},\"group\":null,\"major_label_policy\":{\"id\":\"2626\"},\"ticker\":{\"id\":\"2484\"}},\"id\":\"2483\",\"type\":\"LinearAxis\"},{\"attributes\":{\"coordinates\":null,\"dimension\":\"height\",\"group\":null,\"line_color\":\"#1F77B4\",\"line_width\":3,\"location\":4.0},\"id\":\"2617\",\"type\":\"Span\"},{\"attributes\":{\"above\":[{\"id\":\"2569\"},{\"id\":\"2570\"}],\"below\":[{\"id\":\"2529\"}],\"center\":[{\"id\":\"2532\"},{\"id\":\"2536\"}],\"height\":400,\"left\":[{\"id\":\"2533\"}],\"renderers\":[{\"id\":\"2563\"},{\"id\":\"2565\"},{\"id\":\"2566\"},{\"id\":\"2567\"},{\"id\":\"2568\"}],\"title\":{\"id\":\"2634\"},\"toolbar\":{\"id\":\"2548\"},\"toolbar_location\":null,\"width\":400,\"x_range\":{\"id\":\"2521\"},\"x_scale\":{\"id\":\"2525\"},\"y_range\":{\"id\":\"2523\"},\"y_scale\":{\"id\":\"2527\"}},\"id\":\"2520\",\"subtype\":\"Figure\",\"type\":\"Plot\"},{\"attributes\":{\"align\":\"center\",\"coordinates\":null,\"group\":null,\"text\":\"BLAST\",\"text_font_size\":\"1em\",\"text_font_style\":\"italic\"},\"id\":\"2518\",\"type\":\"Title\"},{\"attributes\":{\"source\":{\"id\":\"2610\"}},\"id\":\"2615\",\"type\":\"CDSView\"},{\"attributes\":{\"bottom\":-0.3,\"coordinates\":null,\"fill_alpha\":0.08,\"fill_color\":\"lime\",\"group\":null,\"left\":-0.5,\"right\":4.0},\"id\":\"2619\",\"type\":\"BoxAnnotation\"},{\"attributes\":{\"align\":\"center\",\"coordinates\":null,\"group\":null,\"text\":\"500ms.fcs (default)\",\"text_font_size\":\"1.1em\"},\"id\":\"2519\",\"type\":\"Title\"},{\"attributes\":{\"coordinates\":null,\"dimension\":\"height\",\"group\":null,\"line_color\":\"#1F77B4\",\"line_width\":3,\"location\":-0.5},\"id\":\"2616\",\"type\":\"Span\"},{\"attributes\":{\"coordinates\":null,\"data_source\":{\"id\":\"2610\"},\"glyph\":{\"id\":\"2611\"},\"group\":null,\"hover_glyph\":null,\"muted_glyph\":{\"id\":\"2613\"},\"nonselection_glyph\":{\"id\":\"2612\"},\"view\":{\"id\":\"2615\"}},\"id\":\"2614\",\"type\":\"GlyphRenderer\"},{\"attributes\":{},\"id\":\"2625\",\"type\":\"BasicTickFormatter\"},{\"attributes\":{\"coordinates\":null,\"fill_alpha\":0.08,\"fill_color\":\"lime\",\"group\":null,\"left\":-4.0,\"right\":-1.0},\"id\":\"2517\",\"type\":\"BoxAnnotation\"},{\"attributes\":{\"end\":2.1570483112335204,\"start\":-1.547721471786499},\"id\":\"2521\",\"type\":\"Range1d\"},{\"attributes\":{},\"id\":\"2588\",\"type\":\"CrosshairTool\"},{\"attributes\":{\"end\":2.1570483112335204,\"start\":-1.547721471786499},\"id\":\"2572\",\"type\":\"Range1d\"},{\"attributes\":{\"callback\":null},\"id\":\"2589\",\"type\":\"HoverTool\"},{\"attributes\":{},\"id\":\"2629\",\"type\":\"AllLabels\"},{\"attributes\":{},\"id\":\"2487\",\"type\":\"CrosshairTool\"},{\"attributes\":{},\"id\":\"2590\",\"type\":\"PanTool\"},{\"attributes\":{\"end\":2.1570483112335204,\"start\":-1.547721471786499},\"id\":\"2471\",\"type\":\"Range1d\"},{\"attributes\":{\"callback\":null},\"id\":\"2488\",\"type\":\"HoverTool\"},{\"attributes\":{},\"id\":\"2594\",\"type\":\"UndoTool\"},{\"attributes\":{},\"id\":\"2591\",\"type\":\"ZoomInTool\"},{\"attributes\":{\"children\":[[{\"id\":\"2470\"},0,0],[{\"id\":\"2520\"},0,1],[{\"id\":\"2571\"},0,2]]},\"id\":\"2658\",\"type\":\"GridBox\"},{\"attributes\":{\"above\":[{\"id\":\"2518\"},{\"id\":\"2519\"}],\"below\":[{\"id\":\"2479\"}],\"center\":[{\"id\":\"2482\"},{\"id\":\"2486\"}],\"height\":400,\"left\":[{\"id\":\"2483\"}],\"renderers\":[{\"id\":\"2513\"},{\"id\":\"2515\"},{\"id\":\"2516\"},{\"id\":\"2517\"}],\"title\":{\"id\":\"2622\"},\"toolbar\":{\"id\":\"2498\"},\"toolbar_location\":null,\"width\":400,\"x_range\":{\"id\":\"2471\"},\"x_scale\":{\"id\":\"2475\"},\"y_range\":{\"id\":\"2473\"},\"y_scale\":{\"id\":\"2477\"}},\"id\":\"2470\",\"subtype\":\"Figure\",\"type\":\"Plot\"},{\"attributes\":{},\"id\":\"2489\",\"type\":\"PanTool\"},{\"attributes\":{},\"id\":\"2493\",\"type\":\"UndoTool\"},{\"attributes\":{},\"id\":\"2592\",\"type\":\"ZoomOutTool\"},{\"attributes\":{},\"id\":\"2490\",\"type\":\"ZoomInTool\"},{\"attributes\":{},\"id\":\"2597\",\"type\":\"SaveTool\"},{\"attributes\":{},\"id\":\"2491\",\"type\":\"ZoomOutTool\"},{\"attributes\":{},\"id\":\"2496\",\"type\":\"SaveTool\"},{\"attributes\":{\"overlay\":{\"id\":\"2598\"}},\"id\":\"2593\",\"type\":\"BoxZoomTool\"},{\"attributes\":{},\"id\":\"2540\",\"type\":\"ZoomInTool\"},{\"attributes\":{},\"id\":\"2595\",\"type\":\"RedoTool\"},{\"attributes\":{\"overlay\":{\"id\":\"2497\"}},\"id\":\"2492\",\"type\":\"BoxZoomTool\"},{\"attributes\":{},\"id\":\"2596\",\"type\":\"ResetTool\"},{\"attributes\":{},\"id\":\"2494\",\"type\":\"RedoTool\"},{\"attributes\":{},\"id\":\"2495\",\"type\":\"ResetTool\"},{\"attributes\":{\"align\":\"center\",\"coordinates\":null,\"group\":null,\"text\":\"PROG\",\"text_font_size\":\"1em\",\"text_font_style\":\"italic\"},\"id\":\"2620\",\"type\":\"Title\"},{\"attributes\":{},\"id\":\"2628\",\"type\":\"BasicTickFormatter\"},{\"attributes\":{\"tools\":[{\"id\":\"2588\"},{\"id\":\"2589\"},{\"id\":\"2590\"},{\"id\":\"2591\"},{\"id\":\"2592\"},{\"id\":\"2593\"},{\"id\":\"2594\"},{\"id\":\"2595\"},{\"id\":\"2596\"},{\"id\":\"2597\"}]},\"id\":\"2599\",\"type\":\"Toolbar\"},{\"attributes\":{\"bottom_units\":\"screen\",\"coordinates\":null,\"fill_alpha\":0.5,\"fill_color\":\"lightgrey\",\"group\":null,\"left_units\":\"screen\",\"level\":\"overlay\",\"line_alpha\":1.0,\"line_color\":\"black\",\"line_dash\":[4,4],\"line_width\":2,\"right_units\":\"screen\",\"syncable\":false,\"top_units\":\"screen\"},\"id\":\"2598\",\"type\":\"BoxAnnotation\"},{\"attributes\":{\"align\":\"center\",\"coordinates\":null,\"group\":null,\"text\":\"500ms.fcs (default)\",\"text_font_size\":\"1.1em\"},\"id\":\"2621\",\"type\":\"Title\"},{\"attributes\":{\"bottom_units\":\"screen\",\"coordinates\":null,\"fill_alpha\":0.5,\"fill_color\":\"lightgrey\",\"group\":null,\"left_units\":\"screen\",\"level\":\"overlay\",\"line_alpha\":1.0,\"line_color\":\"black\",\"line_dash\":[4,4],\"line_width\":2,\"right_units\":\"screen\",\"syncable\":false,\"top_units\":\"screen\"},\"id\":\"2497\",\"type\":\"BoxAnnotation\"},{\"attributes\":{},\"id\":\"2630\",\"type\":\"UnionRenderers\"},{\"attributes\":{\"coordinates\":null,\"group\":null},\"id\":\"2634\",\"type\":\"Title\"},{\"attributes\":{},\"id\":\"2631\",\"type\":\"Selection\"},{\"attributes\":{\"fill_alpha\":{\"value\":0.4},\"fill_color\":{\"field\":\"fill_color\"},\"line_color\":{\"value\":null},\"radius\":{\"value\":0.05},\"radius_dimension\":\"y\",\"x\":{\"field\":\"x\"},\"y\":{\"field\":\"y\"}},\"id\":\"2510\",\"type\":\"Circle\"},{\"attributes\":{\"above\":[{\"id\":\"2620\"},{\"id\":\"2621\"}],\"below\":[{\"id\":\"2580\"}],\"center\":[{\"id\":\"2583\"},{\"id\":\"2587\"}],\"height\":400,\"left\":[{\"id\":\"2584\"}],\"renderers\":[{\"id\":\"2614\"},{\"id\":\"2616\"},{\"id\":\"2617\"},{\"id\":\"2618\"},{\"id\":\"2619\"}],\"title\":{\"id\":\"2646\"},\"toolbar\":{\"id\":\"2599\"},\"toolbar_location\":null,\"width\":400,\"x_range\":{\"id\":\"2572\"},\"x_scale\":{\"id\":\"2576\"},\"y_range\":{\"id\":\"2574\"},\"y_scale\":{\"id\":\"2578\"}},\"id\":\"2571\",\"subtype\":\"Figure\",\"type\":\"Plot\"},{\"attributes\":{},\"id\":\"2475\",\"type\":\"LinearScale\"},{\"attributes\":{},\"id\":\"2638\",\"type\":\"AllLabels\"},{\"attributes\":{\"end\":3.205601620674133,\"start\":-1.011156189441681},\"id\":\"2473\",\"type\":\"Range1d\"},{\"attributes\":{},\"id\":\"2477\",\"type\":\"LinearScale\"},{\"attributes\":{},\"id\":\"2637\",\"type\":\"BasicTickFormatter\"},{\"attributes\":{},\"id\":\"2640\",\"type\":\"BasicTickFormatter\"},{\"attributes\":{\"coordinates\":null,\"dimension\":\"height\",\"group\":null,\"line_color\":\"#1F77B4\",\"line_width\":3,\"location\":4.0},\"id\":\"2566\",\"type\":\"Span\"},{\"attributes\":{},\"id\":\"2641\",\"type\":\"AllLabels\"},{\"attributes\":{\"tools\":[{\"id\":\"2537\"},{\"id\":\"2538\"},{\"id\":\"2539\"},{\"id\":\"2540\"},{\"id\":\"2541\"},{\"id\":\"2542\"},{\"id\":\"2543\"},{\"id\":\"2544\"},{\"id\":\"2545\"},{\"id\":\"2546\"}]},\"id\":\"2548\",\"type\":\"Toolbar\"},{\"attributes\":{\"data\":{\"fill_color\":[\"#00001f\",\"#00001f\",\"#00001f\",\"#00001f\",\"#00001f\",\"#00001f\",\"#00001f\",\"#00001f\",\"#00001f\",\"#00001f\",\"#00001f\",\"#00001f\",\"#00001f\",\"#00001f\",\"#00001f\",\"#00001f\",\"#00001f\",\"#00001f\",\"#00001f\",\"#00001f\",\"#00001f\",\"#00001f\",\"#00001f\",\"#00001f\",\"#00001f\",\"#00001f\",\"#00001f\",\"#00001f\",\"#00001f\",\"#00001f\",\"#00001f\",\"#00001f\",\"#00001f\",\"#00001f\",\"#00001f\",\"#00001f\",\"#00001f\",\"#00001f\",\"#00001f\",\"#00001f\",\"#00001f\",\"#00001f\",\"#00001f\",\"#00001f\",\"#00001f\",\"#00001f\",\"#00001f\",\"#00001f\",\"#00001f\",\"#00001f\",\"#00001f\",\"#00001f\",\"#00001f\",\"#00001f\",\"#00001f\",\"#00001f\",\"#00001f\",\"#00001f\",\"#00001f\",\"#00001f\",\"#00001f\",\"#00001f\",\"#00001f\",\"#00001f\",\"#00001f\",\"#00001f\",\"#00001f\",\"#00001f\",\"#00001f\",\"#00001f\",\"#00001f\",\"#00001f\",\"#00001f\",\"#00001f\",\"#00001f\",\"#00001f\",\"#00001f\",\"#00001f\",\"#00001f\",\"#00001f\",\"#00001f\",\"#00001f\",\"#00001f\",\"#00001f\",\"#00001f\",\"#00001f\",\"#00001f\",\"#00001f\",\"#00001f\",\"#00001f\",\"#00001f\",\"#00001f\",\"#00001f\",\"#00001f\",\"#00001f\",\"#00001f\",\"#00001f\",\"#00001f\",\"#00001f\",\"#00001f\",\"#00001f\",\"#00001f\",\"#00001f\",\"#00001f\",\"#00001f\",\"#00001f\",\"#00001f\",\"#00001f\",\"#00001f\",\"#00001f\",\"#00001f\",\"#00001f\",\"#00001f\",\"#00001f\",\"#00001f\",\"#00001f\",\"#00001f\",\"#00001f\",\"#00001f\",\"#00001f\",\"#00001f\",\"#00001f\",\"#00001f\",\"#00001f\",\"#00001f\",\"#00001f\",\"#00001f\",\"#00001f\",\"#00001f\",\"#00001f\",\"#00001f\",\"#00001f\",\"#00001f\",\"#00001f\",\"#00001f\",\"#00001f\",\"#00001f\",\"#00001f\",\"#00001f\",\"#00001f\",\"#00001f\",\"#00001f\",\"#00001f\",\"#00001f\",\"#00001f\",\"#00001f\",\"#00001f\",\"#00001f\",\"#00001f\",\"#00001f\",\"#00001f\",\"#00001f\",\"#00001f\",\"#00001f\",\"#00001f\",\"#00001f\",\"#00001f\",\"#00001f\",\"#00001f\",\"#00001f\",\"#00001f\",\"#00001f\",\"#00001f\",\"#00001f\",\"#00001f\",\"#00001f\",\"#00001f\",\"#00001f\",\"#00001f\",\"#00001f\",\"#00001f\",\"#00001f\",\"#00001f\",\"#00001f\",\"#00001f\",\"#00001f\",\"#00001f\",\"#00001f\",\"#00001f\",\"#00001f\",\"#00001f\",\"#00001f\",\"#00001f\",\"#00001f\",\"#00001f\",\"#00001f\",\"#00001f\",\"#00001f\",\"#00001f\",\"#00001f\",\"#00001f\",\"#00001f\",\"#00001f\",\"#00001f\",\"#00001f\",\"#00001f\",\"#00001f\",\"#00001f\",\"#00001f\",\"#00001f\",\"#00001f\",\"#00001f\",\"#00001f\",\"#00001f\",\"#00001f\",\"#00001f\",\"#00001f\",\"#00001f\",\"#00001f\",\"#00001f\",\"#00001f\",\"#00001f\",\"#00001f\",\"#00001f\",\"#00001f\",\"#00001f\",\"#00001f\",\"#00001f\",\"#00001f\",\"#00001f\",\"#00001f\",\"#00001f\",\"#00001f\",\"#00001f\",\"#00001f\",\"#00001f\",\"#00001f\",\"#00001f\",\"#00001f\",\"#00001f\",\"#00001f\",\"#00001f\",\"#00001f\",\"#00001f\",\"#00001f\",\"#00001f\",\"#00001f\",\"#00001f\",\"#00001f\",\"#00001f\",\"#00001f\",\"#00001f\",\"#00001f\",\"#00001f\",\"#00001f\",\"#00001f\",\"#00001f\",\"#00001f\",\"#00001f\",\"#00001f\",\"#00001f\",\"#00001f\",\"#00001f\",\"#00001f\",\"#00001f\",\"#00001f\",\"#00001f\",\"#00001f\",\"#00001f\",\"#00001f\",\"#00001f\",\"#00001f\",\"#00001f\",\"#00001f\",\"#00001f\",\"#00001f\",\"#00001f\",\"#00001f\",\"#00001f\",\"#00001f\",\"#00001f\",\"#00001f\",\"#00001f\",\"#00001f\",\"#00001f\",\"#00001f\",\"#00001f\",\"#00001f\",\"#00001f\",\"#00001f\",\"#00001f\",\"#00001f\",\"#00001f\",\"#00001f\",\"#00001f\",\"#00001f\",\"#00001f\",\"#00001f\",\"#00001f\",\"#00001f\",\"#00001f\",\"#00001f\",\"#00001f\",\"#00001f\",\"#00001f\",\"#00001f\",\"#00001f\",\"#00001f\",\"#00001f\",\"#00001f\",\"#00001f\",\"#00001f\",\"#00001f\",\"#00001f\",\"#00001f\",\"#00001f\",\"#00001f\",\"#00001f\",\"#00001f\",\"#00001f\",\"#00001f\",\"#00001f\",\"#00001f\",\"#00001f\",\"#00001f\",\"#00001f\",\"#00001f\",\"#00001f\",\"#00001f\",\"#00001f\",\"#00001f\",\"#00001f\",\"#00001f\",\"#00001f\",\"#00001f\",\"#00001f\",\"#00001f\",\"#00001f\",\"#00001f\",\"#00001f\",\"#00001f\",\"#00001f\",\"#00001f\",\"#00001f\",\"#00001f\",\"#00001f\"],\"x\":{\"__ndarray__\":\"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\",\"dtype\":\"float64\",\"order\":\"little\",\"shape\":[336]},\"y\":{\"__ndarray__\":\"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\",\"dtype\":\"float64\",\"order\":\"little\",\"shape\":[336]}},\"selected\":{\"id\":\"2655\"},\"selection_policy\":{\"id\":\"2654\"}},\"id\":\"2610\",\"type\":\"ColumnDataSource\"},{\"attributes\":{},\"id\":\"2642\",\"type\":\"UnionRenderers\"},{\"attributes\":{\"bottom_units\":\"screen\",\"coordinates\":null,\"fill_alpha\":0.5,\"fill_color\":\"lightgrey\",\"group\":null,\"left_units\":\"screen\",\"level\":\"overlay\",\"line_alpha\":1.0,\"line_color\":\"black\",\"line_dash\":[4,4],\"line_width\":2,\"right_units\":\"screen\",\"syncable\":false,\"top_units\":\"screen\"},\"id\":\"2547\",\"type\":\"BoxAnnotation\"},{\"attributes\":{},\"id\":\"2643\",\"type\":\"Selection\"},{\"attributes\":{\"coordinates\":null,\"group\":null,\"line_color\":\"#1F77B4\",\"line_width\":3,\"location\":-0.5},\"id\":\"2567\",\"type\":\"Span\"},{\"attributes\":{},\"id\":\"2650\",\"type\":\"AllLabels\"},{\"attributes\":{\"fill_alpha\":{\"value\":0.2},\"fill_color\":{\"field\":\"fill_color\"},\"hatch_alpha\":{\"value\":0.2},\"line_alpha\":{\"value\":0.2},\"line_color\":{\"value\":null},\"radius\":{\"value\":0.0096168048620224},\"radius_dimension\":\"y\",\"x\":{\"field\":\"x\"},\"y\":{\"field\":\"y\"}},\"id\":\"2613\",\"type\":\"Circle\"},{\"attributes\":{\"fill_alpha\":{\"value\":0.1},\"fill_color\":{\"field\":\"fill_color\"},\"hatch_alpha\":{\"value\":0.1},\"line_alpha\":{\"value\":0.1},\"line_color\":{\"value\":null},\"radius\":{\"value\":0.0096168048620224},\"radius_dimension\":\"y\",\"x\":{\"field\":\"x\"},\"y\":{\"field\":\"y\"}},\"id\":\"2612\",\"type\":\"Circle\"},{\"attributes\":{\"coordinates\":null,\"group\":null},\"id\":\"2646\",\"type\":\"Title\"},{\"attributes\":{\"fill_alpha\":{\"value\":0.1},\"fill_color\":{\"field\":\"fill_color\"},\"hatch_alpha\":{\"value\":0.1},\"line_alpha\":{\"value\":0.1},\"line_color\":{\"value\":null},\"radius\":{\"value\":0.0096168048620224},\"radius_dimension\":\"y\",\"x\":{\"field\":\"x\"},\"y\":{\"field\":\"y\"}},\"id\":\"2511\",\"type\":\"Circle\"},{\"attributes\":{\"toolbar\":{\"id\":\"2659\"},\"toolbar_location\":\"above\"},\"id\":\"2660\",\"type\":\"ToolbarBox\"},{\"attributes\":{},\"id\":\"2649\",\"type\":\"BasicTickFormatter\"},{\"attributes\":{},\"id\":\"2652\",\"type\":\"BasicTickFormatter\"},{\"attributes\":{\"coordinates\":null,\"fill_alpha\":0.08,\"fill_color\":\"lime\",\"group\":null,\"left\":-0.5,\"right\":4.0,\"top\":-0.5},\"id\":\"2568\",\"type\":\"BoxAnnotation\"},{\"attributes\":{},\"id\":\"2653\",\"type\":\"AllLabels\"},{\"attributes\":{\"coordinates\":null,\"data_source\":{\"id\":\"2509\"},\"glyph\":{\"id\":\"2510\"},\"group\":null,\"hover_glyph\":null,\"muted_glyph\":{\"id\":\"2512\"},\"nonselection_glyph\":{\"id\":\"2511\"},\"view\":{\"id\":\"2514\"}},\"id\":\"2513\",\"type\":\"GlyphRenderer\"},{\"attributes\":{},\"id\":\"2525\",\"type\":\"LinearScale\"},{\"attributes\":{\"coordinates\":null,\"dimension\":\"height\",\"group\":null,\"line_color\":\"#1F77B4\",\"line_width\":3,\"location\":-0.5},\"id\":\"2565\",\"type\":\"Span\"},{\"attributes\":{},\"id\":\"2654\",\"type\":\"UnionRenderers\"},{\"attributes\":{\"coordinates\":null,\"dimension\":\"height\",\"group\":null,\"line_color\":\"#1F77B4\",\"line_width\":3,\"location\":-1.0},\"id\":\"2516\",\"type\":\"Span\"},{\"attributes\":{\"end\":3.205601620674133,\"start\":-1.011156189441681},\"id\":\"2523\",\"type\":\"Range1d\"},{\"attributes\":{\"align\":\"center\",\"coordinates\":null,\"group\":null,\"text\":\"500ms.fcs (default)\",\"text_font_size\":\"1.1em\"},\"id\":\"2570\",\"type\":\"Title\"},{\"attributes\":{},\"id\":\"2655\",\"type\":\"Selection\"},{\"attributes\":{\"align\":\"center\",\"coordinates\":null,\"group\":null,\"text\":\"LSC\",\"text_font_size\":\"1em\",\"text_font_style\":\"italic\"},\"id\":\"2569\",\"type\":\"Title\"},{\"attributes\":{\"tools\":[{\"id\":\"2487\"},{\"id\":\"2488\"},{\"id\":\"2489\"},{\"id\":\"2490\"},{\"id\":\"2491\"},{\"id\":\"2492\"},{\"id\":\"2493\"},{\"id\":\"2494\"},{\"id\":\"2495\"},{\"id\":\"2496\"}]},\"id\":\"2498\",\"type\":\"Toolbar\"},{\"attributes\":{},\"id\":\"2527\",\"type\":\"LinearScale\"},{\"attributes\":{\"data\":{\"fill_color\":[\"#00001f\",\"#00001f\",\"#00001f\",\"#00001f\",\"#00001f\",\"#00001f\",\"#00001f\",\"#00001f\",\"#00001f\",\"#00001f\",\"#00001f\",\"#00001f\",\"#00001f\",\"#00001f\",\"#00001f\",\"#00001f\",\"#00001f\",\"#00001f\",\"#00001f\",\"#00001f\",\"#00001f\",\"#00001f\",\"#00001f\",\"#00001f\",\"#00001f\",\"#00001f\",\"#00001f\",\"#00001f\",\"#00001f\",\"#00001f\",\"#00001f\",\"#00001f\",\"#00001f\",\"#00001f\",\"#00001f\",\"#00001f\",\"#00001f\",\"#00001f\",\"#00001f\",\"#00001f\",\"#00001f\",\"#00001f\",\"#00001f\",\"#00001f\",\"#00001f\",\"#00001f\",\"#00001f\",\"#00001f\",\"#00001f\",\"#00001f\",\"#00001f\",\"#00001f\",\"#00001f\",\"#00001f\",\"#00001f\",\"#00001f\",\"#00001f\",\"#00001f\",\"#00001f\",\"#00001f\",\"#00001f\",\"#00001f\",\"#00001f\",\"#00001f\",\"#00001f\",\"#00001f\",\"#00001f\",\"#00001f\",\"#00001f\",\"#00001f\",\"#00001f\",\"#00001f\",\"#00001f\",\"#00001f\",\"#00001f\",\"#00001f\",\"#00001f\",\"#00001f\",\"#00001f\",\"#00001f\",\"#00001f\",\"#00001f\",\"#00001f\",\"#00001f\",\"#00001f\",\"#00001f\",\"#00001f\",\"#00001f\",\"#00001f\",\"#00001f\",\"#00001f\",\"#00001f\",\"#00001f\",\"#00001f\",\"#00001f\",\"#00001f\",\"#00001f\",\"#00001f\",\"#00001f\",\"#00001f\",\"#00001f\",\"#00001f\",\"#00001f\",\"#00001f\",\"#00001f\",\"#00001f\",\"#00001f\",\"#00001f\",\"#00001f\",\"#00001f\",\"#00001f\",\"#00001f\",\"#00001f\",\"#00001f\",\"#00001f\",\"#00001f\",\"#00001f\",\"#00001f\",\"#00001f\",\"#00001f\",\"#00001f\",\"#00001f\",\"#00001f\",\"#00001f\",\"#00001f\",\"#00001f\",\"#00001f\",\"#00001f\",\"#00001f\",\"#00001f\",\"#00001f\",\"#00001f\",\"#00001f\",\"#00001f\",\"#00001f\",\"#00001f\",\"#00001f\",\"#00001f\",\"#00001f\",\"#00001f\",\"#00001f\",\"#00001f\",\"#00001f\",\"#00001f\",\"#00001f\",\"#00001f\",\"#00001f\",\"#00001f\",\"#00001f\",\"#00001f\",\"#00001f\",\"#00001f\",\"#00001f\",\"#00001f\",\"#00001f\",\"#00001f\",\"#00001f\",\"#00001f\",\"#00001f\",\"#00001f\",\"#00001f\",\"#00001f\",\"#00001f\",\"#00001f\",\"#00001f\",\"#00001f\",\"#00001f\",\"#00001f\",\"#00001f\",\"#00001f\",\"#00001f\",\"#00001f\",\"#00001f\",\"#00001f\",\"#00001f\",\"#00001f\",\"#00001f\",\"#00001f\",\"#00001f\",\"#00001f\",\"#00001f\",\"#00001f\",\"#00001f\",\"#00001f\",\"#00001f\",\"#00001f\",\"#00001f\",\"#00001f\",\"#00001f\",\"#00001f\",\"#00001f\",\"#00001f\",\"#00001f\",\"#00001f\",\"#00001f\",\"#00001f\",\"#00001f\",\"#00001f\",\"#00001f\",\"#00001f\",\"#00001f\",\"#00001f\",\"#00001f\",\"#00001f\",\"#00001f\",\"#00001f\",\"#00001f\",\"#00001f\",\"#00001f\",\"#00001f\",\"#00001f\",\"#00001f\",\"#00001f\",\"#00001f\",\"#00001f\",\"#00001f\",\"#00001f\",\"#00001f\",\"#00001f\",\"#00001f\",\"#00001f\",\"#00001f\",\"#00001f\",\"#00001f\",\"#00001f\",\"#00001f\",\"#00001f\",\"#00001f\",\"#00001f\",\"#00001f\",\"#00001f\",\"#00001f\",\"#00001f\",\"#00001f\",\"#00001f\",\"#00001f\",\"#00001f\",\"#00001f\",\"#00001f\",\"#00001f\",\"#00001f\",\"#00001f\",\"#00001f\",\"#00001f\",\"#00001f\",\"#00001f\",\"#00001f\",\"#00001f\",\"#00001f\",\"#00001f\",\"#00001f\",\"#00001f\",\"#00001f\",\"#00001f\",\"#00001f\",\"#00001f\",\"#00001f\",\"#00001f\",\"#00001f\",\"#00001f\",\"#00001f\",\"#00001f\",\"#00001f\",\"#00001f\",\"#00001f\",\"#00001f\",\"#00001f\",\"#00001f\",\"#00001f\",\"#00001f\",\"#00001f\",\"#00001f\",\"#00001f\",\"#00001f\",\"#00001f\",\"#00001f\",\"#00001f\",\"#00001f\",\"#00001f\",\"#00001f\",\"#00001f\",\"#00001f\",\"#00001f\",\"#00001f\",\"#00001f\",\"#00001f\",\"#00001f\",\"#00001f\",\"#00001f\",\"#00001f\",\"#00001f\",\"#00001f\",\"#00001f\",\"#00001f\",\"#00001f\",\"#00001f\",\"#00001f\",\"#00001f\",\"#00001f\",\"#00001f\",\"#00001f\",\"#00001f\",\"#00001f\",\"#00001f\",\"#00001f\",\"#00001f\",\"#00001f\",\"#00001f\",\"#00001f\",\"#00001f\",\"#00001f\",\"#00001f\",\"#00001f\",\"#00001f\",\"#00001f\",\"#00001f\",\"#00001f\",\"#00001f\",\"#00001f\",\"#00001f\",\"#00001f\",\"#00001f\",\"#00001f\",\"#00001f\",\"#00001f\",\"#00001f\",\"#00001f\",\"#00001f\",\"#00001f\",\"#00001f\",\"#00001f\",\"#00001f\",\"#00001f\",\"#00001f\",\"#00001f\",\"#00001f\"],\"x\":{\"__ndarray__\":\"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\",\"dtype\":\"float64\",\"order\":\"little\",\"shape\":[336]},\"y\":{\"__ndarray__\":\"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\",\"dtype\":\"float64\",\"order\":\"little\",\"shape\":[336]}},\"selected\":{\"id\":\"2631\"},\"selection_policy\":{\"id\":\"2630\"}},\"id\":\"2509\",\"type\":\"ColumnDataSource\"},{\"attributes\":{\"coordinates\":null,\"dimension\":\"height\",\"group\":null,\"line_color\":\"#1F77B4\",\"line_width\":3,\"location\":-4.0},\"id\":\"2515\",\"type\":\"Span\"},{\"attributes\":{\"toolbars\":[{\"id\":\"2498\"},{\"id\":\"2548\"},{\"id\":\"2599\"}],\"tools\":[{\"id\":\"2487\"},{\"id\":\"2488\"},{\"id\":\"2489\"},{\"id\":\"2490\"},{\"id\":\"2491\"},{\"id\":\"2492\"},{\"id\":\"2493\"},{\"id\":\"2494\"},{\"id\":\"2495\"},{\"id\":\"2496\"},{\"id\":\"2537\"},{\"id\":\"2538\"},{\"id\":\"2539\"},{\"id\":\"2540\"},{\"id\":\"2541\"},{\"id\":\"2542\"},{\"id\":\"2543\"},{\"id\":\"2544\"},{\"id\":\"2545\"},{\"id\":\"2546\"},{\"id\":\"2588\"},{\"id\":\"2589\"},{\"id\":\"2590\"},{\"id\":\"2591\"},{\"id\":\"2592\"},{\"id\":\"2593\"},{\"id\":\"2594\"},{\"id\":\"2595\"},{\"id\":\"2596\"},{\"id\":\"2597\"}]},\"id\":\"2659\",\"type\":\"ProxyToolbar\"},{\"attributes\":{\"axis_label\":\"CD34 (APC-Cy7-A)\",\"coordinates\":null,\"formatter\":{\"id\":\"2640\"},\"group\":null,\"major_label_policy\":{\"id\":\"2641\"},\"ticker\":{\"id\":\"2530\"}},\"id\":\"2529\",\"type\":\"LinearAxis\"},{\"attributes\":{\"coordinates\":null,\"group\":null},\"id\":\"2622\",\"type\":\"Title\"},{\"attributes\":{},\"id\":\"2534\",\"type\":\"BasicTicker\"},{\"attributes\":{},\"id\":\"2530\",\"type\":\"BasicTicker\"},{\"attributes\":{\"axis\":{\"id\":\"2529\"},\"coordinates\":null,\"group\":null,\"ticker\":null},\"id\":\"2532\",\"type\":\"Grid\"},{\"attributes\":{\"source\":{\"id\":\"2509\"}},\"id\":\"2514\",\"type\":\"CDSView\"},{\"attributes\":{\"fill_alpha\":{\"value\":0.2},\"fill_color\":{\"field\":\"fill_color\"},\"hatch_alpha\":{\"value\":0.2},\"line_alpha\":{\"value\":0.2},\"line_color\":{\"value\":null},\"radius\":{\"value\":0.0096168048620224},\"radius_dimension\":\"y\",\"x\":{\"field\":\"x\"},\"y\":{\"field\":\"y\"}},\"id\":\"2562\",\"type\":\"Circle\"},{\"attributes\":{\"axis\":{\"id\":\"2533\"},\"coordinates\":null,\"dimension\":1,\"group\":null,\"ticker\":null},\"id\":\"2536\",\"type\":\"Grid\"},{\"attributes\":{\"axis_label\":\"CD38 (PE-A)\",\"coordinates\":null,\"formatter\":{\"id\":\"2637\"},\"group\":null,\"major_label_policy\":{\"id\":\"2638\"},\"ticker\":{\"id\":\"2534\"}},\"id\":\"2533\",\"type\":\"LinearAxis\"},{\"attributes\":{\"fill_alpha\":{\"value\":0.2},\"fill_color\":{\"field\":\"fill_color\"},\"hatch_alpha\":{\"value\":0.2},\"line_alpha\":{\"value\":0.2},\"line_color\":{\"value\":null},\"radius\":{\"value\":0.0096168048620224},\"radius_dimension\":\"y\",\"x\":{\"field\":\"x\"},\"y\":{\"field\":\"y\"}},\"id\":\"2512\",\"type\":\"Circle\"},{\"attributes\":{\"fill_alpha\":{\"value\":0.1},\"fill_color\":{\"field\":\"fill_color\"},\"hatch_alpha\":{\"value\":0.1},\"line_alpha\":{\"value\":0.1},\"line_color\":{\"value\":null},\"radius\":{\"value\":0.0096168048620224},\"radius_dimension\":\"y\",\"x\":{\"field\":\"x\"},\"y\":{\"field\":\"y\"}},\"id\":\"2561\",\"type\":\"Circle\"},{\"attributes\":{\"source\":{\"id\":\"2559\"}},\"id\":\"2564\",\"type\":\"CDSView\"},{\"attributes\":{\"fill_alpha\":{\"value\":0.4},\"fill_color\":{\"field\":\"fill_color\"},\"line_color\":{\"value\":null},\"radius\":{\"value\":0.05},\"radius_dimension\":\"y\",\"x\":{\"field\":\"x\"},\"y\":{\"field\":\"y\"}},\"id\":\"2560\",\"type\":\"Circle\"},{\"attributes\":{\"data\":{\"fill_color\":[\"#00001f\",\"#00001f\",\"#00001f\",\"#00001f\",\"#00001f\",\"#00001f\",\"#00001f\",\"#00001f\",\"#00001f\",\"#00001f\",\"#00001f\",\"#00001f\",\"#00001f\",\"#00001f\",\"#00001f\",\"#00001f\",\"#00001f\",\"#00001f\",\"#00001f\",\"#00001f\",\"#00001f\",\"#00001f\",\"#00001f\",\"#00001f\",\"#00001f\",\"#00001f\",\"#00001f\",\"#00001f\",\"#00001f\",\"#00001f\",\"#00001f\",\"#00001f\",\"#00001f\",\"#00001f\",\"#00001f\",\"#00001f\",\"#00001f\",\"#00001f\",\"#00001f\",\"#00001f\",\"#00001f\",\"#00001f\",\"#00001f\",\"#00001f\",\"#00001f\",\"#00001f\",\"#00001f\",\"#00001f\",\"#00001f\",\"#00001f\",\"#00001f\",\"#00001f\",\"#00001f\",\"#00001f\",\"#00001f\",\"#00001f\",\"#00001f\",\"#00001f\",\"#00001f\",\"#00001f\",\"#00001f\",\"#00001f\",\"#00001f\",\"#00001f\",\"#00001f\",\"#00001f\",\"#00001f\",\"#00001f\",\"#00001f\",\"#00001f\",\"#00001f\",\"#00001f\",\"#00001f\",\"#00001f\",\"#00001f\",\"#00001f\",\"#00001f\",\"#00001f\",\"#00001f\",\"#00001f\",\"#00001f\",\"#00001f\",\"#00001f\",\"#00001f\",\"#00001f\",\"#00001f\",\"#00001f\",\"#00001f\",\"#00001f\",\"#00001f\",\"#00001f\",\"#00001f\",\"#00001f\",\"#00001f\",\"#00001f\",\"#00001f\",\"#00001f\",\"#00001f\",\"#00001f\",\"#00001f\",\"#00001f\",\"#00001f\",\"#00001f\",\"#00001f\",\"#00001f\",\"#00001f\",\"#00001f\",\"#00001f\",\"#00001f\",\"#00001f\",\"#00001f\",\"#00001f\",\"#00001f\",\"#00001f\",\"#00001f\",\"#00001f\",\"#00001f\",\"#00001f\",\"#00001f\",\"#00001f\",\"#00001f\",\"#00001f\",\"#00001f\",\"#00001f\",\"#00001f\",\"#00001f\",\"#00001f\",\"#00001f\",\"#00001f\",\"#00001f\",\"#00001f\",\"#00001f\",\"#00001f\",\"#00001f\",\"#00001f\",\"#00001f\",\"#00001f\",\"#00001f\",\"#00001f\",\"#00001f\",\"#00001f\",\"#00001f\",\"#00001f\",\"#00001f\",\"#00001f\",\"#00001f\",\"#00001f\",\"#00001f\",\"#00001f\",\"#00001f\",\"#00001f\",\"#00001f\",\"#00001f\",\"#00001f\",\"#00001f\",\"#00001f\",\"#00001f\",\"#00001f\",\"#00001f\",\"#00001f\",\"#00001f\",\"#00001f\",\"#00001f\",\"#00001f\",\"#00001f\",\"#00001f\",\"#00001f\",\"#00001f\",\"#00001f\",\"#00001f\",\"#00001f\",\"#00001f\",\"#00001f\",\"#00001f\",\"#00001f\",\"#00001f\",\"#00001f\",\"#00001f\",\"#00001f\",\"#00001f\",\"#00001f\",\"#00001f\",\"#00001f\",\"#00001f\",\"#00001f\",\"#00001f\",\"#00001f\",\"#00001f\",\"#00001f\",\"#00001f\",\"#00001f\",\"#00001f\",\"#00001f\",\"#00001f\",\"#00001f\",\"#00001f\",\"#00001f\",\"#00001f\",\"#00001f\",\"#00001f\",\"#00001f\",\"#00001f\",\"#00001f\",\"#00001f\",\"#00001f\",\"#00001f\",\"#00001f\",\"#00001f\",\"#00001f\",\"#00001f\",\"#00001f\",\"#00001f\",\"#00001f\",\"#00001f\",\"#00001f\",\"#00001f\",\"#00001f\",\"#00001f\",\"#00001f\",\"#00001f\",\"#00001f\",\"#00001f\",\"#00001f\",\"#00001f\",\"#00001f\",\"#00001f\",\"#00001f\",\"#00001f\",\"#00001f\",\"#00001f\",\"#00001f\",\"#00001f\",\"#00001f\",\"#00001f\",\"#00001f\",\"#00001f\",\"#00001f\",\"#00001f\",\"#00001f\",\"#00001f\",\"#00001f\",\"#00001f\",\"#00001f\",\"#00001f\",\"#00001f\",\"#00001f\",\"#00001f\",\"#00001f\",\"#00001f\",\"#00001f\",\"#00001f\",\"#00001f\",\"#00001f\",\"#00001f\",\"#00001f\",\"#00001f\",\"#00001f\",\"#00001f\",\"#00001f\",\"#00001f\",\"#00001f\",\"#00001f\",\"#00001f\",\"#00001f\",\"#00001f\",\"#00001f\",\"#00001f\",\"#00001f\",\"#00001f\",\"#00001f\",\"#00001f\",\"#00001f\",\"#00001f\",\"#00001f\",\"#00001f\",\"#00001f\",\"#00001f\",\"#00001f\",\"#00001f\",\"#00001f\",\"#00001f\",\"#00001f\",\"#00001f\",\"#00001f\",\"#00001f\",\"#00001f\",\"#00001f\",\"#00001f\",\"#00001f\",\"#00001f\",\"#00001f\",\"#00001f\",\"#00001f\",\"#00001f\",\"#00001f\",\"#00001f\",\"#00001f\",\"#00001f\",\"#00001f\",\"#00001f\",\"#00001f\",\"#00001f\",\"#00001f\",\"#00001f\",\"#00001f\",\"#00001f\",\"#00001f\",\"#00001f\",\"#00001f\",\"#00001f\",\"#00001f\",\"#00001f\",\"#00001f\",\"#00001f\",\"#00001f\",\"#00001f\",\"#00001f\",\"#00001f\",\"#00001f\",\"#00001f\",\"#00001f\",\"#00001f\",\"#00001f\",\"#00001f\",\"#00001f\",\"#00001f\",\"#00001f\",\"#00001f\",\"#00001f\",\"#00001f\",\"#00001f\",\"#00001f\",\"#00001f\",\"#00001f\",\"#00001f\",\"#00001f\"],\"x\":{\"__ndarray__\":\"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\",\"dtype\":\"float64\",\"order\":\"little\",\"shape\":[336]},\"y\":{\"__ndarray__\":\"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\",\"dtype\":\"float64\",\"order\":\"little\",\"shape\":[336]}},\"selected\":{\"id\":\"2643\"},\"selection_policy\":{\"id\":\"2642\"}},\"id\":\"2559\",\"type\":\"ColumnDataSource\"},{\"attributes\":{\"coordinates\":null,\"data_source\":{\"id\":\"2559\"},\"glyph\":{\"id\":\"2560\"},\"group\":null,\"hover_glyph\":null,\"muted_glyph\":{\"id\":\"2562\"},\"nonselection_glyph\":{\"id\":\"2561\"},\"view\":{\"id\":\"2564\"}},\"id\":\"2563\",\"type\":\"GlyphRenderer\"},{\"attributes\":{},\"id\":\"2537\",\"type\":\"CrosshairTool\"},{\"attributes\":{\"callback\":null},\"id\":\"2538\",\"type\":\"HoverTool\"},{\"attributes\":{},\"id\":\"2539\",\"type\":\"PanTool\"},{\"attributes\":{},\"id\":\"2543\",\"type\":\"UndoTool\"},{\"attributes\":{},\"id\":\"2541\",\"type\":\"ZoomOutTool\"},{\"attributes\":{\"fill_alpha\":{\"value\":0.4},\"fill_color\":{\"field\":\"fill_color\"},\"line_color\":{\"value\":null},\"radius\":{\"value\":0.05},\"radius_dimension\":\"y\",\"x\":{\"field\":\"x\"},\"y\":{\"field\":\"y\"}},\"id\":\"2611\",\"type\":\"Circle\"},{\"attributes\":{},\"id\":\"2546\",\"type\":\"SaveTool\"},{\"attributes\":{},\"id\":\"2576\",\"type\":\"LinearScale\"},{\"attributes\":{\"end\":3.205601620674133,\"start\":-1.011156189441681},\"id\":\"2574\",\"type\":\"Range1d\"},{\"attributes\":{\"overlay\":{\"id\":\"2547\"}},\"id\":\"2542\",\"type\":\"BoxZoomTool\"},{\"attributes\":{},\"id\":\"2544\",\"type\":\"RedoTool\"},{\"attributes\":{},\"id\":\"2581\",\"type\":\"BasicTicker\"},{\"attributes\":{},\"id\":\"2545\",\"type\":\"ResetTool\"},{\"attributes\":{},\"id\":\"2578\",\"type\":\"LinearScale\"},{\"attributes\":{\"axis_label\":\"CD34 (APC-Cy7-A)\",\"coordinates\":null,\"formatter\":{\"id\":\"2652\"},\"group\":null,\"major_label_policy\":{\"id\":\"2653\"},\"ticker\":{\"id\":\"2581\"}},\"id\":\"2580\",\"type\":\"LinearAxis\"}],\"root_ids\":[\"2661\"]},\"title\":\"Bokeh Application\",\"version\":\"2.4.3\"}};\n",
       "  const render_items = [{\"docid\":\"64f40a9b-3eb6-4059-837f-3ec18b655704\",\"root_ids\":[\"2661\"],\"roots\":{\"2661\":\"33acf213-e14e-4ae8-92ea-9b767f52fffd\"}}];\n",
       "  root.Bokeh.embed.embed_items_notebook(docs_json, render_items);\n",
       "  }\n",
       "  if (root.Bokeh !== undefined) {\n",
       "    embed_document(root);\n",
       "  } else {\n",
       "    let attempts = 0;\n",
       "    const timer = setInterval(function(root) {\n",
       "      if (root.Bokeh !== undefined) {\n",
       "        clearInterval(timer);\n",
       "        embed_document(root);\n",
       "      } else {\n",
       "        attempts++;\n",
       "        if (attempts > 100) {\n",
       "          clearInterval(timer);\n",
       "          console.log(\"Bokeh: ERROR: Unable to run BokehJS code because BokehJS library is missing\");\n",
       "        }\n",
       "      }\n",
       "    }, 10, root)\n",
       "  }\n",
       "})(window);"
      ],
      "application/vnd.bokehjs_exec.v0+json": ""
     },
     "metadata": {
      "application/vnd.bokehjs_exec.v0+json": {
       "id": "2661"
      }
     },
     "output_type": "display_data"
    }
   ],
   "source": [
    "for s in [s.original_filename for s in session.get_group_samples('default')]:\n",
    "    ps = []\n",
    "    for g in ['BLAST', 'LSC', 'PROG']:\n",
    "        ps.append(session.plot_gate('default', s, g, color_density=False))\n",
    "        ps[-1].renderers[0].glyph.radius = 0.05\n",
    "    grid = gridplot(ps, ncols=4, width=400, height=400)\n",
    "    show(grid)"
   ]
  },
  {
   "cell_type": "code",
   "execution_count": 15,
   "id": "7fedd6ea-b684-4808-8d73-d3e9c7f49551",
   "metadata": {},
   "outputs": [],
   "source": [
    "# compile the facs data\n",
    "facs_data = {}\n",
    "for s in session.get_group_samples('default'):\n",
    "    df = s.as_dataframe(source='raw')\n",
    "    df.columns = [x.strip() for x in df.columns.get_level_values(1) + ' ' + df.columns.get_level_values(0)] # surface marker + conjugate\n",
    "    \n",
    "    df['Well'] = well_dict[s.original_filename.split('.')[0]]\n",
    "    df['Row'] = df['Well'].apply(lambda x: x[0])\n",
    "    df['Column'] = df['Well'].apply(lambda x: x[1:])\n",
    "    \n",
    "    # annotate final populations\n",
    "    for pop in ['BLAST', 'LSC', 'PROG']:\n",
    "        mask = session.get_gate_membership('default', s.original_filename, pop)\n",
    "        df.loc[mask, 'Population'] = pop\n",
    "    df['Population'] = df['Population'].replace(pd.NA, 'ungated')\n",
    "    \n",
    "    # annotate gate path (only relevant for sequential gating)\n",
    "    df['Gate Path'] = [[] for i in range(len(df))]\n",
    "    for g in ['BLAST', 'LSC', 'PROG']:\n",
    "        mask = session.get_gate_membership('default', s.original_filename, g)\n",
    "        df.loc[mask, 'Gate Path'].apply(lambda x: x.append(g))\n",
    "    df['Gate Path'] = df['Gate Path'].apply(lambda x: \";\".join(x))\n",
    "    facs_data[s.original_filename] = df\n",
    "    \n",
    "    # transform to normal float\n",
    "    df = df.astype({k:'float32' for k in df.columns[df.dtypes == 'float64']})\n",
    "    # save\n",
    "    df.to_csv(f'../results/facs_data/facs_data_{s.original_filename.split(\".\")[0]}.txt', sep='\\t', index=False)\n",
    "\n",
    "# from here, copy the facs data .txt files to the data folder"
   ]
  },
  {
   "cell_type": "code",
   "execution_count": 16,
   "id": "e0e927bf-fe97-44b0-b8c0-011a769d52f4",
   "metadata": {},
   "outputs": [
    {
     "data": {
      "text/plain": [
       "{'500ms.fcs':          Time     FSC-A     FSC-W     FSC-H     SSC-A     SSC-W     SSC-H  \\\n",
       " 0   -1.717951 -0.143168 -1.087328  0.944056 -1.469197 -0.305880 -1.624680   \n",
       " 1   -1.708250  0.223649  1.963795 -1.755856  0.146541  1.655638 -0.576108   \n",
       " 2   -1.698105 -0.004392 -0.882233  0.912436 -2.147043 -1.603061 -1.846762   \n",
       " 3   -1.688514  0.788748  0.877482  0.119880  0.740596  0.705785  0.568729   \n",
       " 4   -1.676714 -0.530861 -0.479894 -0.195032 -1.254147 -1.157720 -0.978128   \n",
       " ..        ...       ...       ...       ...       ...       ...       ...   \n",
       " 331  1.670409 -0.306588 -0.238753 -0.152489  0.564421 -0.570741  0.935409   \n",
       " 332  1.680090  0.292485  1.019905 -0.679378  0.839736  1.225710  0.451981   \n",
       " 333  1.689680  1.128395  0.778115  0.668474  1.549425  0.455460  1.651266   \n",
       " 334  1.699321 -0.559861 -1.191465  0.507379  0.308676  0.277796  0.244681   \n",
       " 335  1.711000  0.153793 -0.069035  0.273689 -0.471597 -0.103014 -0.518694   \n",
       " \n",
       "      CD38 PE-A  CD34 APC-Cy7-A Well Row Column Population Gate Path  \n",
       " 0    -0.832045       -1.425867   B1   B      1      BLAST     BLAST  \n",
       " 1    -0.460273       -1.323671   B2   B      2      BLAST     BLAST  \n",
       " 2    -0.340829       -1.427004   B3   B      3      BLAST     BLAST  \n",
       " 3     2.430417       -1.358828   B4   B      4      BLAST     BLAST  \n",
       " 4     0.589707       -1.398584   B5   B      5      BLAST     BLAST  \n",
       " ..         ...             ...  ...  ..    ...        ...       ...  \n",
       " 331  -0.675060        0.929058   P5   P      5        LSC       LSC  \n",
       " 332  -0.768173        1.841192   P4   P      4        LSC       LSC  \n",
       " 333  -0.857327        1.163763   P3   P      3        LSC       LSC  \n",
       " 334  -0.766180        1.159881   P2   P      2        LSC       LSC  \n",
       " 335  -0.824117        0.951407   P1   P      1        LSC       LSC  \n",
       " \n",
       " [336 rows x 14 columns]}"
      ]
     },
     "execution_count": 16,
     "metadata": {},
     "output_type": "execute_result"
    }
   ],
   "source": [
    "facs_data"
   ]
  },
  {
   "cell_type": "code",
   "execution_count": 18,
   "id": "8334701c-333f-4e67-8fcf-c7ad9bf49f31",
   "metadata": {},
   "outputs": [
    {
     "name": "stderr",
     "output_type": "stream",
     "text": [
      "[NbConvertApp] Converting notebook flowkit_500ms.ipynb to html\n",
      "[NbConvertApp] Writing 752450 bytes to ../results/facs_data/flowkit_500ms.html\n"
     ]
    },
    {
     "data": {
      "text/plain": [
       "0"
      ]
     },
     "execution_count": 18,
     "metadata": {},
     "output_type": "execute_result"
    }
   ],
   "source": [
    "os.system('jupyter nbconvert --to html flowkit_500ms.ipynb --output-dir={}'.format(res_dir))"
   ]
  },
  {
   "cell_type": "code",
   "execution_count": null,
   "id": "5a772d98-d0f8-423b-be77-ff49c98cab67",
   "metadata": {},
   "outputs": [],
   "source": []
  }
 ],
 "metadata": {
  "kernelspec": {
   "display_name": "Python 3 (ipykernel)",
   "language": "python",
   "name": "python3"
  },
  "language_info": {
   "codemirror_mode": {
    "name": "ipython",
    "version": 3
   },
   "file_extension": ".py",
   "mimetype": "text/x-python",
   "name": "python",
   "nbconvert_exporter": "python",
   "pygments_lexer": "ipython3",
   "version": "3.7.10"
  }
 },
 "nbformat": 4,
 "nbformat_minor": 5
}
